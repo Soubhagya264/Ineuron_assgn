{
 "cells": [
  {
   "cell_type": "raw",
   "metadata": {},
   "source": [
    "Q1 > Benefits of including roles in the programmes : increse the     productivity and perfomance"
   ]
  },
  {
   "cell_type": "raw",
   "metadata": {},
   "source": [
    "Q2 > First we need to sepcified or difine the function then we call the function"
   ]
  },
  {
   "cell_type": "raw",
   "metadata": {},
   "source": [
    "Q4 > Function is a group of code that is used to perform some specific task\n",
    "\n",
    "When you call a function you are telling the computer to run or execute that set of actions\n"
   ]
  },
  {
   "cell_type": "raw",
   "metadata": {},
   "source": [
    "Q5 > There is only one global Python scope "
   ]
  },
  {
   "cell_type": "raw",
   "metadata": {},
   "source": [
    "Q6 > When a function call returns, a local variable retains its value until the next time the function is called "
   ]
  },
  {
   "cell_type": "raw",
   "metadata": {},
   "source": [
    "Q7 > Function takes value as an argument and perform some operation and return as a value ."
   ]
  },
  {
   "cell_type": "raw",
   "metadata": {},
   "source": [
    "Q8 > The return value of a call to a function that does not have a return statement is None"
   ]
  },
  {
   "cell_type": "raw",
   "metadata": {},
   "source": [
    "Q9 > global keyword would be used to refer to a global variable in a function"
   ]
  },
  {
   "cell_type": "raw",
   "metadata": {},
   "source": [
    "Q10 >  None keyword is used to define a null value"
   ]
  },
  {
   "cell_type": "code",
   "execution_count": null,
   "metadata": {},
   "outputs": [],
   "source": []
  },
  {
   "cell_type": "code",
   "execution_count": null,
   "metadata": {},
   "outputs": [],
   "source": []
  }
 ],
 "metadata": {
  "kernelspec": {
   "display_name": "Python 3",
   "language": "python",
   "name": "python3"
  },
  "language_info": {
   "codemirror_mode": {
    "name": "ipython",
    "version": 3
   },
   "file_extension": ".py",
   "mimetype": "text/x-python",
   "name": "python",
   "nbconvert_exporter": "python",
   "pygments_lexer": "ipython3",
   "version": "3.8.3"
  }
 },
 "nbformat": 4,
 "nbformat_minor": 4
}
