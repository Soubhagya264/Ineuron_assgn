{
 "cells": [
  {
   "cell_type": "code",
   "execution_count": 1,
   "metadata": {},
   "outputs": [
    {
     "name": "stdout",
     "output_type": "stream",
     "text": [
      "[['####'], ['##'], ['##'], ['##'], ['####']]\n"
     ]
    }
   ],
   "source": [
    "def get_frame(col,row,symbol):\n",
    "    lis=[]\n",
    "    for i in range(0,row):\n",
    "        lis1=[]\n",
    "        for j in range(0,col):\n",
    "            if i ==0 or i==row-1:\n",
    "                lis1.append(symbol)\n",
    "            if j<2 and (i!=0 and i!=row-1):\n",
    "                lis1.append(symbol)\n",
    "        lis.append([''.join(lis1)])       \n",
    "    return lis            \n",
    "                \n",
    "print(get_frame(4,5,'#'))        "
   ]
  },
  {
   "cell_type": "code",
   "execution_count": 4,
   "metadata": {},
   "outputs": [
    {
     "name": "stdout",
     "output_type": "stream",
     "text": [
      "False\n",
      "True\n"
     ]
    }
   ],
   "source": [
    "def boolean_and(lis):\n",
    "    while(len(lis)>1):\n",
    "        a=lis.pop(0)\n",
    "        b=lis.pop(0)\n",
    "        res= a and b\n",
    "        lis.insert(0,res)\n",
    "    return lis[0]\n",
    "\n",
    "def boolean_or(lis):\n",
    "    while(len(lis)>1):\n",
    "        a=lis.pop(0)\n",
    "        b=lis.pop(0)\n",
    "        res= a or b\n",
    "        lis.insert(0,res)\n",
    "    return lis[0]        \n",
    "print(boolean_and([True, True, False, True]) )\n",
    "print(boolean_or([True, True, False, True]))"
   ]
  },
  {
   "cell_type": "code",
   "execution_count": 7,
   "metadata": {},
   "outputs": [
    {
     "data": {
      "text/plain": [
       "[['###'], [' #  # '], ['###']]"
      ]
     },
     "execution_count": 7,
     "metadata": {},
     "output_type": "execute_result"
    }
   ],
   "source": [
    "def make_box(num):\n",
    "    lis=[]\n",
    "    for i in range(0,num):\n",
    "        lis1=[]\n",
    "        for j in range(0,num):\n",
    "            if i ==0 or i==num-1:\n",
    "                lis1.append('#')\n",
    "            if j<2 and (i!=0 and i!=num-1):\n",
    "                lis1.append(' # ')\n",
    "        lis.append([''.join(lis1)])       \n",
    "    return lis  \n",
    "make_box(3)"
   ]
  },
  {
   "cell_type": "code",
   "execution_count": 50,
   "metadata": {},
   "outputs": [
    {
     "name": "stdout",
     "output_type": "stream",
     "text": [
      "dict_values([1, 2, 1, 1])\n",
      "False\n"
     ]
    }
   ],
   "source": [
    "def no_duplicate_letters(Str):\n",
    "    Str=Str.split(' ')\n",
    "    dic={}\n",
    "    count=0\n",
    "    for word in Str:\n",
    "        count=0\n",
    "        for c in word:\n",
    "            if word.count(c)>count:\n",
    "                count=word.count(c)\n",
    "                dic[word]=count\n",
    "            else:\n",
    "                dic[word]=count            \n",
    "    for v in dic.values():\n",
    "        if v>1:\n",
    "            return False\n",
    "    return True\n",
    "            \n",
    "print(no_duplicate_letters(\"Fortune favvours the bold \"))"
   ]
  },
  {
   "cell_type": "code",
   "execution_count": null,
   "metadata": {},
   "outputs": [],
   "source": []
  }
 ],
 "metadata": {
  "kernelspec": {
   "display_name": "Python 3",
   "language": "python",
   "name": "python3"
  },
  "language_info": {
   "codemirror_mode": {
    "name": "ipython",
    "version": 3
   },
   "file_extension": ".py",
   "mimetype": "text/x-python",
   "name": "python",
   "nbconvert_exporter": "python",
   "pygments_lexer": "ipython3",
   "version": "3.8.3"
  }
 },
 "nbformat": 4,
 "nbformat_minor": 4
}
