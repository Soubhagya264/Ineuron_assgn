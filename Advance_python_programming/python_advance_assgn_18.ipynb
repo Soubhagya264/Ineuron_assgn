{
 "cells": [
  {
   "cell_type": "code",
   "execution_count": 4,
   "metadata": {},
   "outputs": [
    {
     "name": "stdout",
     "output_type": "stream",
     "text": [
      "[-20, 40]\n",
      "[-20, 30]\n"
     ]
    }
   ],
   "source": [
    "def track_robot(lis):\n",
    "    dic={}\n",
    "    lis1=[]\n",
    "    right=0\n",
    "    up=0\n",
    "    for i in lis:\n",
    "        if i.split(' ')[0] in dic.keys():\n",
    "            dic[i.split(' ')[0]]+=int(i.split(' ')[1])\n",
    "        else:    \n",
    "            dic[i.split(' ')[0]]=int(i.split(' ')[1])\n",
    "    for k in dic.keys():\n",
    "        if k==\"right\":\n",
    "            right+=(dic[k])\n",
    "        elif k==\"left\":\n",
    "            right-=(dic[k])\n",
    "        elif k==\"up\":\n",
    "            up+=(dic[k])\n",
    "        elif k==\"down\":\n",
    "            up-=(dic[k])\n",
    "          \n",
    "    lis1.append(right)\n",
    "    lis1.append(up)\n",
    "    return lis1\n",
    "print(track_robot([\"right 10\",\"up 50\",\"left 30\",\"down 10\"]))\n",
    "print(track_robot([\"right 10\",\"up 50\",\"left 30\",\"down 10\",\"down 5\",\"down 5\"]))        "
   ]
  },
  {
   "cell_type": "code",
   "execution_count": 2,
   "metadata": {},
   "outputs": [
    {
     "data": {
      "text/plain": [
       "'forever'"
      ]
     },
     "execution_count": 2,
     "metadata": {},
     "output_type": "execute_result"
    }
   ],
   "source": [
    "def longest_word(Str):\n",
    "    Str=Str.split(' ')\n",
    "    Max=len(Str[0])\n",
    "    for i in range(1,len(Str)):\n",
    "        if len(Str[i])>Max:\n",
    "            Max=len(Str[i])\n",
    "    return Str[Max]    \n",
    "longest_word(\"A thing of beauty is a joy forever\")    "
   ]
  },
  {
   "cell_type": "code",
   "execution_count": 5,
   "metadata": {},
   "outputs": [
    {
     "name": "stdout",
     "output_type": "stream",
     "text": [
      "qualified\n",
      "disqualified\n"
     ]
    }
   ],
   "source": [
    "def interview(lis,time):\n",
    "    very_easy=5\n",
    "    easy=10\n",
    "    medium=15\n",
    "    hard=20\n",
    "    if time>120 or len(lis)<8:\n",
    "        return \"disqualified\"\n",
    "    if lis[0]>very_easy or  lis[1]>very_easy:\n",
    "        return \"disqualified\"\n",
    "    if (lis[2]>easy or lis[3]>easy):\n",
    "        return \"disqualified\"\n",
    "    if (lis[4]>medium or lis[5]>medium):\n",
    "         return \"disqualified\"\n",
    "    if (lis[6]>hard or lis[7]>hard):\n",
    "        return \"disqualified\"\n",
    "    else:\n",
    "        return \"qualified\"\n",
    "print(interview([5, 5, 10, 10, 15, 15, 20, 20], 120))  \n",
    "print(interview([5, 5, 10, 10, 25, 15, 20, 20], 120))"
   ]
  },
  {
   "cell_type": "code",
   "execution_count": 13,
   "metadata": {},
   "outputs": [
    {
     "name": "stdout",
     "output_type": "stream",
     "text": [
      "[[2, 3], [4, 5], [6]]\n",
      "[[2, 3, 4, 5, 6, 7]]\n"
     ]
    }
   ],
   "source": [
    "def chunkify(lis,num):\n",
    "    lis1=[]\n",
    "    start=0\n",
    "    end=num\n",
    "    while(len(lis)>=end):\n",
    "        lis1.append(lis[start:end])\n",
    "        start=end\n",
    "        end+=num\n",
    "    if end!=len(lis):\n",
    "        end-=num\n",
    "        lis1.append(lis[end:len(lis)])\n",
    "    return lis1    \n",
    "print(chunkify([2,3,4,5,6],num=2))\n",
    "print(chunkify([2,3,4,5,6,7],num=7)) "
   ]
  },
  {
   "cell_type": "code",
   "execution_count": 36,
   "metadata": {},
   "outputs": [
    {
     "data": {
      "text/plain": [
       "[5.99, 0.29, 8.5, 1.99]"
      ]
     },
     "execution_count": 36,
     "metadata": {},
     "output_type": "execute_result"
    }
   ],
   "source": [
    "import re\n",
    "def get_prices(lis):\n",
    "    lis1=[]\n",
    "    for i in lis:\n",
    "        lis1.append(re.findall(r'[\\d\\.\\d]+',i))\n",
    "    lis2=[float((i[0])) for i in lis1]    \n",
    "    return lis2\n",
    "i_list=[\"ice creame($5.99)\",\"banana($0.29)\",\"sandwich($8.5)\",\"soup($1.99)\"]        \n",
    "get_prices(i_list)"
   ]
  },
  {
   "cell_type": "code",
   "execution_count": null,
   "metadata": {},
   "outputs": [],
   "source": []
  }
 ],
 "metadata": {
  "kernelspec": {
   "display_name": "Python 3",
   "language": "python",
   "name": "python3"
  },
  "language_info": {
   "codemirror_mode": {
    "name": "ipython",
    "version": 3
   },
   "file_extension": ".py",
   "mimetype": "text/x-python",
   "name": "python",
   "nbconvert_exporter": "python",
   "pygments_lexer": "ipython3",
   "version": "3.8.3"
  }
 },
 "nbformat": 4,
 "nbformat_minor": 4
}
