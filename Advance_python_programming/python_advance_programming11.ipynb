{
 "cells": [
  {
   "cell_type": "code",
   "execution_count": 1,
   "metadata": {},
   "outputs": [
    {
     "name": "stdout",
     "output_type": "stream",
     "text": [
      "7 3 11 "
     ]
    }
   ],
   "source": [
    "def filter_primes(lis):\n",
    "    def prime(num):\n",
    "        flag=True\n",
    "        for i in range(2,num):\n",
    "            if num%i==0:\n",
    "                flag=False\n",
    "                break\n",
    "        if flag:\n",
    "            return True\n",
    "        else:\n",
    "            return False\n",
    "    filtered=filter(prime,lis)\n",
    "    for s in filtered:\n",
    "        print(s,end=' ')\n",
    "filter_primes([7, 9, 3, 9, 10, 11, 27]) "
   ]
  },
  {
   "cell_type": "code",
   "execution_count": 4,
   "metadata": {},
   "outputs": [
    {
     "data": {
      "text/plain": [
       "[0, 1, 2, 3, 4, 3, 2, 1, 0]"
      ]
     },
     "execution_count": 4,
     "metadata": {},
     "output_type": "execute_result"
    }
   ],
   "source": [
    "def POP(lis):\n",
    "    for i in range(len(lis)):\n",
    "        if lis[i]!=0:\n",
    "            data=lis[i]\n",
    "            index=i\n",
    "    i=0  \n",
    "    n=data\n",
    "    while i<len(lis)-1:\n",
    "        if i<index:\n",
    "            lis[i]=data-n\n",
    "            n-=1\n",
    "            i+=1\n",
    "        elif i==index:\n",
    "            lis[i]=data\n",
    "            n=1\n",
    "            i+=1\n",
    "        elif i>index:\n",
    "            lis[i]=data-n\n",
    "            n+=1\n",
    "            i+=1\n",
    "    return lis        \n",
    "POP([0, 0, 0, 0, 4, 0, 0, 0, 0])"
   ]
  },
  {
   "cell_type": "code",
   "execution_count": 7,
   "metadata": {},
   "outputs": [
    {
     "data": {
      "text/plain": [
       "'Loves me not'"
      ]
     },
     "execution_count": 7,
     "metadata": {},
     "output_type": "execute_result"
    }
   ],
   "source": [
    "def loves_me(num):\n",
    "    if num%2==0:\n",
    "        return \"Loves me not\"\n",
    "    else:\n",
    "        return \"Loves me\"\n",
    "loves_me(4)    "
   ]
  },
  {
   "cell_type": "code",
   "execution_count": 26,
   "metadata": {},
   "outputs": [],
   "source": [
    "def cup_swapping(swaps):\n",
    "    ball='B'\n",
    "    \n",
    "    for move in swaps: \n",
    "        \n",
    "        if ball in move:\n",
    "            \n",
    "            if move[0]==ball: \n",
    "                ball = move[1]\n",
    "            else:\n",
    "                ball=move[0]   \n",
    "cup_swapping(['AB', 'CA', 'AB'])                "
   ]
  },
  {
   "cell_type": "code",
   "execution_count": null,
   "metadata": {},
   "outputs": [],
   "source": []
  },
  {
   "cell_type": "code",
   "execution_count": null,
   "metadata": {},
   "outputs": [],
   "source": []
  }
 ],
 "metadata": {
  "kernelspec": {
   "display_name": "Python 3",
   "language": "python",
   "name": "python3"
  },
  "language_info": {
   "codemirror_mode": {
    "name": "ipython",
    "version": 3
   },
   "file_extension": ".py",
   "mimetype": "text/x-python",
   "name": "python",
   "nbconvert_exporter": "python",
   "pygments_lexer": "ipython3",
   "version": "3.8.3"
  }
 },
 "nbformat": 4,
 "nbformat_minor": 4
}
