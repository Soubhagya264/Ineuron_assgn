{
 "cells": [
  {
   "cell_type": "code",
   "execution_count": 9,
   "metadata": {},
   "outputs": [
    {
     "data": {
      "text/plain": [
       "9"
      ]
     },
     "execution_count": 9,
     "metadata": {},
     "output_type": "execute_result"
    }
   ],
   "source": [
    "from collections import  Counter\n",
    "def unique_styles(lis):\n",
    "    arr=[]\n",
    "    s=set()\n",
    "    for i in lis:\n",
    "        arr.append(i.split(','))\n",
    "    for i in arr:\n",
    "        for j in i:\n",
    "            s.add(j)\n",
    "    return sum(Counter(s).values())        \n",
    "    \n",
    "unique_styles([\"Dub,Dancehall\",\"Industrial,Heavy metal\",\"Techno,Dubstep\",\"Synth-pop,Euro-Disco\",\"Industrial,Techno,Minimal\"])    "
   ]
  },
  {
   "cell_type": "code",
   "execution_count": 15,
   "metadata": {},
   "outputs": [
    {
     "data": {
      "text/plain": [
       "True"
      ]
     },
     "execution_count": 15,
     "metadata": {},
     "output_type": "execute_result"
    }
   ],
   "source": [
    "def is_prime(primes,num):\n",
    "    r=len(primes)-1\n",
    "    l=0\n",
    "    while(l<r):\n",
    "        mid=l+(r-l)//2\n",
    "        if primes[mid]==num:\n",
    "            return True\n",
    "        if num>primes[mid]:\n",
    "            l=mid+1\n",
    "        else:\n",
    "            r=mid\n",
    "    else:\n",
    "        return False\n",
    "    \n",
    "primes = [2, 3, 5, 7, 11, 13, 17, 19, 23, 29, 31, 37, 41, 43, 47, 53, 59, 61, 67,\n",
    "71, 73, 79, 83, 89, 97]\n",
    "is_prime(primes,17)"
   ]
  },
  {
   "cell_type": "code",
   "execution_count": 43,
   "metadata": {},
   "outputs": [],
   "source": [
    "from collections import  Counter\n",
    "def power_ranger(n,a,b):\n",
    "    lis=[]\n",
    "    for i in range(0,(b//2)+1):\n",
    "        if i**n in range(a,b+1):\n",
    "            lis.append(i**n)\n",
    "    return sum(Counter(lis).values())\n",
    "            "
   ]
  },
  {
   "cell_type": "code",
   "execution_count": 44,
   "metadata": {},
   "outputs": [
    {
     "data": {
      "text/plain": [
       "3"
      ]
     },
     "execution_count": 44,
     "metadata": {},
     "output_type": "execute_result"
    }
   ],
   "source": [
    "power_ranger(4,250,1300)"
   ]
  },
  {
   "cell_type": "code",
   "execution_count": 51,
   "metadata": {},
   "outputs": [
    {
     "data": {
      "text/plain": [
       "7709823"
      ]
     },
     "execution_count": 51,
     "metadata": {},
     "output_type": "execute_result"
    }
   ],
   "source": [
    "def rearrange(num):\n",
    "    s=str(num)\n",
    "    max_no=sorted(s,reverse=True)\n",
    "    max_no=''.join(max_no)\n",
    "    small_no=sorted(s)\n",
    "    small_no=''.join(small_no)\n",
    "    return int(max_no)-int(small_no)\n",
    "rearrange(3320707)"
   ]
  },
  {
   "cell_type": "code",
   "execution_count": null,
   "metadata": {},
   "outputs": [],
   "source": []
  }
 ],
 "metadata": {
  "kernelspec": {
   "display_name": "Python 3",
   "language": "python",
   "name": "python3"
  },
  "language_info": {
   "codemirror_mode": {
    "name": "ipython",
    "version": 3
   },
   "file_extension": ".py",
   "mimetype": "text/x-python",
   "name": "python",
   "nbconvert_exporter": "python",
   "pygments_lexer": "ipython3",
   "version": "3.8.3"
  }
 },
 "nbformat": 4,
 "nbformat_minor": 4
}
