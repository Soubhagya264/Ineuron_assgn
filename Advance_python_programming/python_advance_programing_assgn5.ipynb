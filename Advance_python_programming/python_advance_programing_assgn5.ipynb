{
 "cells": [
  {
   "cell_type": "code",
   "execution_count": 6,
   "metadata": {},
   "outputs": [
    {
     "name": "stdout",
     "output_type": "stream",
     "text": [
      "8\n",
      "2\n"
     ]
    }
   ],
   "source": [
    "def even_odd(num):\n",
    "    arr=[8,2]\n",
    "    return arr[num%2]\n",
    "print(even_odd(4))\n",
    "print(even_odd(5))"
   ]
  },
  {
   "cell_type": "code",
   "execution_count": 9,
   "metadata": {},
   "outputs": [
    {
     "data": {
      "text/plain": [
       "'A'"
      ]
     },
     "execution_count": 9,
     "metadata": {},
     "output_type": "execute_result"
    }
   ],
   "source": [
    "def majority_vote(lis):\n",
    "    max_counter=0\n",
    "    counter=0\n",
    "    ele=\"\"\n",
    "    for i in lis:\n",
    "        counter=lis.count(i)\n",
    "        if counter>max_counter:\n",
    "            max_counter=counter\n",
    "            ele=i\n",
    "    if max_counter >= len(lis)//2:\n",
    "        return ele\n",
    "majority_vote([\"A\",\"A\",\"B\",\"A\",\"B\",\"B\",\"A\"])    "
   ]
  },
  {
   "cell_type": "code",
   "execution_count": 34,
   "metadata": {},
   "outputs": [
    {
     "name": "stdout",
     "output_type": "stream",
     "text": [
      "----- is - Wednesday!\n",
      "The *** jumped **** the moon\n"
     ]
    }
   ],
   "source": [
    "def censor_string(Str,lis,symbol):\n",
    "    chang_s=''\n",
    "    new_lis=Str.split()\n",
    "    for i , ele in enumerate(new_lis):\n",
    "        if ele in lis:\n",
    "            for j in ele:\n",
    "                chang_s+=j.replace(j,symbol)\n",
    "\n",
    "            new_lis[i]=ele.replace(ele,chang_s)\n",
    "            chang_s=''   \n",
    "    return ' '.join(new_lis)        \n",
    "                      \n",
    "print(censor_string(\"Today is a Wednesday!\",[\"Today\",\"a\"],\"-\"))   \n",
    "print(censor_string(\"The cow jumped over the moon\",[\"cow\",\"over\"],\"*\"))"
   ]
  },
  {
   "cell_type": "code",
   "execution_count": 38,
   "metadata": {},
   "outputs": [
    {
     "name": "stdout",
     "output_type": "stream",
     "text": [
      "False\n",
      "True\n"
     ]
    }
   ],
   "source": [
    "def is_polydivisible(num):\n",
    "    def check(num,num_len):\n",
    "        if num%num_len==0:\n",
    "            return True      \n",
    "    num_len=len(str(num))\n",
    "    res=True\n",
    "    while(num_len>=1):\n",
    "        if res == True:\n",
    "            res=check(num,num_len)\n",
    "            num_len-=1\n",
    "            num=num//10\n",
    "        else:\n",
    "            return False\n",
    "    return res\n",
    "\n",
    "print(is_polydivisible(123220))\n",
    "print(is_polydivisible(1232))        "
   ]
  },
  {
   "cell_type": "code",
   "execution_count": 50,
   "metadata": {},
   "outputs": [
    {
     "data": {
      "text/plain": [
       "17"
      ]
     },
     "execution_count": 50,
     "metadata": {},
     "output_type": "execute_result"
    }
   ],
   "source": [
    "def sum_primes(lis):\n",
    "    Sum=0\n",
    "    for num in lis:\n",
    "        flag=True\n",
    "        if num ==1:\n",
    "            continue\n",
    "        for i in range(2,num):\n",
    "            \n",
    "            if num%i==0:\n",
    "                flag=False\n",
    "        if flag==True:\n",
    "            Sum+=num\n",
    "    return Sum\n",
    "sum_primes([1,2,3,4,5,6,7,8,9,10])"
   ]
  },
  {
   "cell_type": "code",
   "execution_count": null,
   "metadata": {},
   "outputs": [],
   "source": []
  }
 ],
 "metadata": {
  "kernelspec": {
   "display_name": "Python 3",
   "language": "python",
   "name": "python3"
  },
  "language_info": {
   "codemirror_mode": {
    "name": "ipython",
    "version": 3
   },
   "file_extension": ".py",
   "mimetype": "text/x-python",
   "name": "python",
   "nbconvert_exporter": "python",
   "pygments_lexer": "ipython3",
   "version": "3.8.3"
  }
 },
 "nbformat": 4,
 "nbformat_minor": 4
}
