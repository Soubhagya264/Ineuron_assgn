{
 "cells": [
  {
   "cell_type": "code",
   "execution_count": 6,
   "metadata": {},
   "outputs": [
    {
     "data": {
      "text/plain": [
       "[12.0, 7.5, 14.5]"
      ]
     },
     "execution_count": 6,
     "metadata": {},
     "output_type": "execute_result"
    }
   ],
   "source": [
    "def show_the_love(lis):\n",
    "    MIn=lis[0]\n",
    "    index=0\n",
    "    per=0\n",
    "    val=0\n",
    "    for i in range(len(lis)):\n",
    "        if lis[i] <MIn:\n",
    "            MIn=lis[i]\n",
    "            index=i\n",
    "    lis.pop(index)        \n",
    "    for i in range(len(lis)):\n",
    "        per=lis[i]*(0.25)\n",
    "        val=lis[i]-per\n",
    "        lis[i]=val\n",
    "        MIn+=per\n",
    "        val=0\n",
    "        per=0\n",
    "    lis.insert(index,MIn)\n",
    "    return lis\n",
    "show_the_love([16,10,8])"
   ]
  },
  {
   "cell_type": "code",
   "execution_count": 15,
   "metadata": {},
   "outputs": [
    {
     "name": "stdout",
     "output_type": "stream",
     "text": [
      "['aps', 'hr', 'o']\n",
      "['enp', 'ahis', 'lov']\n"
     ]
    }
   ],
   "source": [
    "def letters(Str1,Str2):\n",
    "    lis=[]\n",
    "    sl=''\n",
    "    lu1=''\n",
    "    lu2=''\n",
    "    for i in Str1:\n",
    "        if i in Str2 :\n",
    "            if i not in sl:\n",
    "                sl+=i\n",
    "        if i not in Str2 :\n",
    "            if i not in lu1:\n",
    "                lu1+=i\n",
    "    for i in Str2:\n",
    "        if i not in Str1:\n",
    "            if i not in lu2:  \n",
    "                lu2+=i\n",
    "    SL=sorted(sl)\n",
    "    LU1=sorted(lu1)\n",
    "    LU2=sorted(lu2)\n",
    "    lis.append(''.join(SL))  \n",
    "    lis.append(''.join(LU1)) \n",
    "    lis.append(''.join(LU2)) \n",
    "    return lis\n",
    "print(letters(\"sharp\",\"soap\"))\n",
    "print(letters(\"happiness\",\"envelope\"))\n",
    "            \n",
    "            "
   ]
  },
  {
   "cell_type": "code",
   "execution_count": 30,
   "metadata": {},
   "outputs": [
    {
     "data": {
      "text/plain": [
       "[[1, 7], [2, 6], [3, 5], [4, 4]]"
      ]
     },
     "execution_count": 30,
     "metadata": {},
     "output_type": "execute_result"
    }
   ],
   "source": [
    "def pairs(arr,n):\n",
    "    arr=sorted(arr)\n",
    "    lis=[]\n",
    "    for i in range(0,n):\n",
    "        pair=[]\n",
    "        if i<n:\n",
    "            pair.append(arr[i])\n",
    "            pair.append(arr[n-1])\n",
    "            n=n-1\n",
    "            lis.append(pair)\n",
    "    return lis\n",
    "arr=[1,2,3,4,5,6,7]\n",
    "    \n",
    "l=len(arr)\n",
    "pairs(arr,l)"
   ]
  },
  {
   "cell_type": "code",
   "execution_count": 60,
   "metadata": {},
   "outputs": [
    {
     "name": "stdout",
     "output_type": "stream",
     "text": [
      "214365\n"
     ]
    }
   ],
   "source": [
    "def unmix(Str):\n",
    "    S=''\n",
    "    Str=Str.replace(' ','')\n",
    "    for i in range(1,len(Str),2):\n",
    "        if i==' ':\n",
    "            continue\n",
    "        sstr=''\n",
    "        sstr+=Str[i-1].replace(Str[i-1],Str[i])\n",
    "        sstr+=Str[i].replace(Str[i],Str[i-1])\n",
    "        S+=sstr\n",
    "    if len(S)!=len(Str):\n",
    "        S+=Str[-1]\n",
    "    \n",
    "    return S  \n",
    "print(unmix(\"123456\"))"
   ]
  },
  {
   "cell_type": "code",
   "execution_count": null,
   "metadata": {},
   "outputs": [],
   "source": []
  }
 ],
 "metadata": {
  "kernelspec": {
   "display_name": "Python 3",
   "language": "python",
   "name": "python3"
  },
  "language_info": {
   "codemirror_mode": {
    "name": "ipython",
    "version": 3
   },
   "file_extension": ".py",
   "mimetype": "text/x-python",
   "name": "python",
   "nbconvert_exporter": "python",
   "pygments_lexer": "ipython3",
   "version": "3.8.3"
  }
 },
 "nbformat": 4,
 "nbformat_minor": 4
}
