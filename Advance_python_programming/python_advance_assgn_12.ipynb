{
 "cells": [
  {
   "cell_type": "code",
   "execution_count": 30,
   "metadata": {},
   "outputs": [
    {
     "data": {
      "text/plain": [
       "1103"
      ]
     },
     "execution_count": 30,
     "metadata": {},
     "output_type": "execute_result"
    }
   ],
   "source": [
    "def meme_sum(num1,num2):\n",
    "    lis=[]\n",
    "    val1=''\n",
    "    while num1 != 0 or num2 !=0:\n",
    "        \n",
    "        val=num1%10\n",
    "        num1=num1//10\n",
    "        val2=num2%10\n",
    "        num2=num2//10\n",
    "        lis.append(val+val2)\n",
    "    for i in range(len(lis)-1,-1,-1):\n",
    "        val1+= str(lis[i])    \n",
    "    return int(val1)   \n",
    "meme_sum(122,81)"
   ]
  },
  {
   "cell_type": "code",
   "execution_count": 32,
   "metadata": {},
   "outputs": [
    {
     "name": "stdout",
     "output_type": "stream",
     "text": [
      "13\n"
     ]
    }
   ],
   "source": [
    "import math\n",
    " \n",
    "def isPrime(n):\n",
    "    if(n <= 1):\n",
    "        return False\n",
    "    if(n <= 3):\n",
    "        return True\n",
    "     \n",
    "    if(n % 2 == 0 or n % 3 == 0):\n",
    "        return False\n",
    "     \n",
    "    for i in range(5,int(math.sqrt(n) + 1), 6):\n",
    "        if(n % i == 0 or n % (i + 2) == 0):\n",
    "            return False\n",
    "     \n",
    "    return True\n",
    " \n",
    "def nextPrime(N):\n",
    " \n",
    "    if (N <= 1):\n",
    "        return 2\n",
    " \n",
    "    prime = N\n",
    "    found = False\n",
    " \n",
    "    while(not found):\n",
    "        prime = prime + 1\n",
    " \n",
    "        if(isPrime(prime) == True):\n",
    "            found = True\n",
    " \n",
    "    return prime\n",
    " \n",
    "\n",
    "N = 12\n",
    "print(nextPrime(N))\n",
    " "
   ]
  },
  {
   "cell_type": "code",
   "execution_count": 34,
   "metadata": {},
   "outputs": [
    {
     "data": {
      "text/plain": [
       "3"
      ]
     },
     "execution_count": 34,
     "metadata": {},
     "output_type": "execute_result"
    }
   ],
   "source": [
    "def kempner(n, i=1, total=1):\n",
    "    if total % n == 0:\n",
    "        return max(1, i-1)\n",
    "    else:\n",
    "        return kempner(n, i+1, total*i)\n",
    "kempner(6)    "
   ]
  },
  {
   "cell_type": "code",
   "execution_count": 5,
   "metadata": {},
   "outputs": [
    {
     "data": {
      "text/plain": [
       "5"
      ]
     },
     "execution_count": 5,
     "metadata": {},
     "output_type": "execute_result"
    }
   ],
   "source": [
    "def boxes(arr):\n",
    "    Sum=0\n",
    "    Counter=0\n",
    "    count=0\n",
    "    for i in range(len(arr)):\n",
    "        if Sum<=10:\n",
    "            Sum+=arr[i]\n",
    "            count+=1\n",
    "        if count>0:\n",
    "            Counter+=1\n",
    "            count=0\n",
    "    return Counter\n",
    "boxes([2,1,2,5,3,6,1,1,9,3,2])\n",
    "## There is no need to use  extrs list data structure\n",
    "        "
   ]
  },
  {
   "cell_type": "code",
   "execution_count": null,
   "metadata": {},
   "outputs": [],
   "source": []
  }
 ],
 "metadata": {
  "kernelspec": {
   "display_name": "Python 3",
   "language": "python",
   "name": "python3"
  },
  "language_info": {
   "codemirror_mode": {
    "name": "ipython",
    "version": 3
   },
   "file_extension": ".py",
   "mimetype": "text/x-python",
   "name": "python",
   "nbconvert_exporter": "python",
   "pygments_lexer": "ipython3",
   "version": "3.8.3"
  }
 },
 "nbformat": 4,
 "nbformat_minor": 4
}
