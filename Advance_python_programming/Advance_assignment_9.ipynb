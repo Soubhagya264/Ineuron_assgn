{
 "cells": [
  {
   "cell_type": "code",
   "execution_count": 1,
   "metadata": {},
   "outputs": [],
   "source": [
    "def playback_duration(Str,num):\n",
    "    lis=Str.split(':')\n",
    "    lis2=[]\n",
    "    res=((int(lis[0])*3600)+(int(lis[1])*60)+(int(lis[2])))/num       \n",
    "    lis2.insert(0,str(int(res//3600)))\n",
    "    lis2.insert(1,str(int((res//60)%60)))\n",
    "    lis2.insert(2,str(int(res%60)))\n",
    "    return ':'.join(lis2)"
   ]
  },
  {
   "cell_type": "code",
   "execution_count": 2,
   "metadata": {},
   "outputs": [],
   "source": [
    "playback_duration(\"51:20:09\",0.5)"
   ]
  },
  {
   "cell_type": "code",
   "execution_count": 3,
   "metadata": {},
   "outputs": [
    {
     "data": {
      "text/plain": [
       "2"
      ]
     },
     "execution_count": 3,
     "metadata": {},
     "output_type": "execute_result"
    }
   ],
   "source": [
    "def find_fulcrum(lis):\n",
    "        for i in range(len(lis)-1):\n",
    "            if(sum(lis[0:i]))==sum(lis[i+1:len(lis)]):\n",
    "                return(lis[i])\n",
    "find_fulcrum([3, 1, 5, 2, 4, 6, -1])  "
   ]
  },
  {
   "cell_type": "code",
   "execution_count": 5,
   "metadata": {},
   "outputs": [
    {
     "data": {
      "text/plain": [
       "-23"
      ]
     },
     "execution_count": 5,
     "metadata": {},
     "output_type": "execute_result"
    }
   ],
   "source": [
    "import re\n",
    "def negative_sum(Str):\n",
    "    no = re.findall(r'[\\w\\.-]+[\\w\\.-]+', Str)\n",
    "    Sum=0\n",
    "    for n in no:\n",
    "        if int(n)<0:\n",
    "            Sum=Sum+int(n)\n",
    "    return Sum        \n",
    "Str=\"-12 13% 14&-11\"\n",
    "negative_sum(Str)"
   ]
  },
  {
   "cell_type": "code",
   "execution_count": null,
   "metadata": {},
   "outputs": [],
   "source": []
  }
 ],
 "metadata": {
  "kernelspec": {
   "display_name": "Python 3",
   "language": "python",
   "name": "python3"
  },
  "language_info": {
   "codemirror_mode": {
    "name": "ipython",
    "version": 3
   },
   "file_extension": ".py",
   "mimetype": "text/x-python",
   "name": "python",
   "nbconvert_exporter": "python",
   "pygments_lexer": "ipython3",
   "version": "3.8.3"
  }
 },
 "nbformat": 4,
 "nbformat_minor": 4
}
