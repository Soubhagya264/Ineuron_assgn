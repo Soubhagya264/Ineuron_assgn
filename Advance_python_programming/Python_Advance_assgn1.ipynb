{
 "cells": [
  {
   "cell_type": "code",
   "execution_count": 5,
   "metadata": {},
   "outputs": [
    {
     "name": "stdout",
     "output_type": "stream",
     "text": [
      "2\n",
      "1\n"
     ]
    }
   ],
   "source": [
    "di={'#':5,'O':3,'X':1,'!':-1,'!!':-3,'!!!':-5}\n",
    "def check_score(lis):\n",
    "    res=0\n",
    "    global di\n",
    "    for l in lis:\n",
    "        for i in l:\n",
    "            if i in di.keys():\n",
    "                res+=di[i]\n",
    "    return res\n",
    "print(check_score([[\"#\",\"!\"],[\"!!\",\"X\"]]))\n",
    "print(check_score([[\"#\",\"!!!\",\"X\"],[\"!!\",\"X\",\"O\"],[\"!!!\",\"O\",\"X\"]]))\n"
   ]
  },
  {
   "cell_type": "code",
   "execution_count": 21,
   "metadata": {},
   "outputs": [
    {
     "data": {
      "text/plain": [
       "'..@..%>.>-..<&- >>.%>'"
      ]
     },
     "execution_count": 21,
     "metadata": {},
     "output_type": "execute_result"
    }
   ],
   "source": [
    "char_to_docs={\n",
    "    'A':'.-','B':'-...','C':'-.-.','D':'-..','E':'.%>','F':'..-.','G':'--.',\n",
    "    \"H\":'..@.',\"I\":'..','J':'.>>>','K':'>.>','L':'.>-..','M':'>>','N':\">.\",\n",
    "    \"O\":'>>>..','P':\"<&-\",\"Q\":\"!!!\",'R':\"@@\",\"S\":\"%..\",\"T\":\"..*\",\"U\":\"**\",\n",
    "    \"V\":\"###\",\"W\":\"@..-\",'X':\"-->--\",\"Y\":\"--#\",'Z':\"<<$\"\n",
    "}\n",
    "def encode(Str):\n",
    "    strr=\"\"\n",
    "    for i in Str:\n",
    "        if i in char_to_docs.keys():\n",
    "            Str=Str.replace(i,char_to_docs[i])\n",
    "    return Str\n",
    "encode(\"HELP ME\")"
   ]
  },
  {
   "cell_type": "code",
   "execution_count": 23,
   "metadata": {},
   "outputs": [
    {
     "data": {
      "text/plain": [
       "True"
      ]
     },
     "execution_count": 23,
     "metadata": {},
     "output_type": "execute_result"
    }
   ],
   "source": [
    "def prime_no(num):\n",
    "    if num<=1:\n",
    "        return False\n",
    "    for i in range(2,num):\n",
    "        if num%i==0:\n",
    "            return False\n",
    "    return True\n",
    "prime_no(7)"
   ]
  },
  {
   "cell_type": "code",
   "execution_count": 28,
   "metadata": {},
   "outputs": [
    {
     "name": "stdout",
     "output_type": "stream",
     "text": [
      "[False, True, True, False]\n",
      "[False, True, False, True, True]\n"
     ]
    }
   ],
   "source": [
    "alphabet=\" abcdefghijklmnopqrstuvwxyz\"\n",
    "dic={}\n",
    "for i in range(1,len(alphabet)):\n",
    "    if i%2==0:\n",
    "        dic[alphabet[i]]=0\n",
    "    else:\n",
    "        dic[alphabet[i]]=1\n",
    "def to_boolean_lis(Str):\n",
    "    global dic\n",
    "    lis=[]\n",
    "    for i in Str:\n",
    "        if i in dic.keys():\n",
    "            lis.append(bool(dic[i]))\n",
    "    return lis       \n",
    "print(to_boolean_lis(\"deep\"))\n",
    "print(to_boolean_lis(\"loves\"))"
   ]
  },
  {
   "cell_type": "code",
   "execution_count": null,
   "metadata": {},
   "outputs": [],
   "source": []
  },
  {
   "cell_type": "code",
   "execution_count": null,
   "metadata": {},
   "outputs": [],
   "source": []
  }
 ],
 "metadata": {
  "kernelspec": {
   "display_name": "Python 3",
   "language": "python",
   "name": "python3"
  },
  "language_info": {
   "codemirror_mode": {
    "name": "ipython",
    "version": 3
   },
   "file_extension": ".py",
   "mimetype": "text/x-python",
   "name": "python",
   "nbconvert_exporter": "python",
   "pygments_lexer": "ipython3",
   "version": "3.8.3"
  }
 },
 "nbformat": 4,
 "nbformat_minor": 4
}
