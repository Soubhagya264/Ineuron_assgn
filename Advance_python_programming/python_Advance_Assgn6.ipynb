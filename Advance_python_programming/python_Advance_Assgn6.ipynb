{
 "cells": [
  {
   "cell_type": "code",
   "execution_count": 2,
   "metadata": {},
   "outputs": [
    {
     "data": {
      "text/plain": [
       "'e'"
      ]
     },
     "execution_count": 2,
     "metadata": {},
     "output_type": "execute_result"
    }
   ],
   "source": [
    "def find_the_difference(Str1,Str2):\n",
    "    s=set(Str1)\n",
    "    for i in  Str2:\n",
    "        if i not in s:\n",
    "            return i\n",
    "find_the_difference(\"abcd\",\"abcde\")        "
   ]
  },
  {
   "cell_type": "code",
   "execution_count": 26,
   "metadata": {},
   "outputs": [
    {
     "data": {
      "text/plain": [
       "[2, 1, 1, 0, 0]"
      ]
     },
     "execution_count": 26,
     "metadata": {},
     "output_type": "execute_result"
    }
   ],
   "source": [
    "def count_datatypes(*args):\n",
    "    lis=[]\n",
    "    dic={int:0,str:0,bool:0,list:0,dict:0}\n",
    "    for i in args:\n",
    "        if type(i) in dic.keys():\n",
    "             dic[type(i)]=dic[type(i)]+1 \n",
    "    for k , v in dic.items():\n",
    "        lis.append(v)\n",
    "    return lis    \n",
    "        \n",
    "\n",
    "count_datatypes(1,43,\"Hi\",False)\n",
    "             "
   ]
  },
  {
   "cell_type": "code",
   "execution_count": 73,
   "metadata": {},
   "outputs": [
    {
     "name": "stdout",
     "output_type": "stream",
     "text": [
      "j  h  hj    \n",
      "n  k  kn    kn  k    kn  k  kn      kn  k  kn    kn  k      \n"
     ]
    }
   ],
   "source": [
    "def fib_str(n,lis):\n",
    "    char1=lis[0]\n",
    "    char2=lis[1]\n",
    "    temp=\"\"\n",
    "    for i in range(1,n+1):\n",
    "        temp=char2\n",
    "        char2+=char1\n",
    "        char2+='  '\n",
    "        char1=temp\n",
    "    return char2[1::]\n",
    "print(fib_str(3,['j','h']))\n",
    "print(fib_str(6,['n','k']))"
   ]
  },
  {
   "cell_type": "code",
   "execution_count": 87,
   "metadata": {},
   "outputs": [
    {
     "name": "stdout",
     "output_type": "stream",
     "text": [
      "'nines': 1, 'threes': 0, 'ones': 1\n",
      "'nines': 2, 'threes': 1, 'ones': 1\n"
     ]
    }
   ],
   "source": [
    "def one_three_nine(num):\n",
    "    dic={'nines':0,'threes':0,'ones':0}\n",
    "    def nine(num):\n",
    "        num=num-9\n",
    "        dic['nines']+=1\n",
    "        return num\n",
    "    def three(num):\n",
    "        num=num-3\n",
    "        dic['threes']+=1\n",
    "        return num\n",
    "    def ones(num):\n",
    "        num=num-1\n",
    "        dic['ones']+=1\n",
    "        return num\n",
    "    while(num>0):\n",
    "        if num>=9:\n",
    "            num=nine(num)\n",
    "        if num>=3:\n",
    "            num=three(num)\n",
    "        if num>=1:\n",
    "            num=ones(num)\n",
    "    return(str({k : v for k ,v in dic.items()}).lstrip('{').rstrip('}'))\n",
    "print(one_three_nine(10))\n",
    "print(one_three_nine(22))\n",
    "\n",
    "            \n",
    "        \n",
    "        "
   ]
  },
  {
   "cell_type": "code",
   "execution_count": null,
   "metadata": {},
   "outputs": [],
   "source": []
  }
 ],
 "metadata": {
  "kernelspec": {
   "display_name": "Python 3",
   "language": "python",
   "name": "python3"
  },
  "language_info": {
   "codemirror_mode": {
    "name": "ipython",
    "version": 3
   },
   "file_extension": ".py",
   "mimetype": "text/x-python",
   "name": "python",
   "nbconvert_exporter": "python",
   "pygments_lexer": "ipython3",
   "version": "3.8.3"
  }
 },
 "nbformat": 4,
 "nbformat_minor": 4
}
