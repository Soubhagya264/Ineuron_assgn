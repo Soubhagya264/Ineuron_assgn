{
 "cells": [
  {
   "cell_type": "code",
   "execution_count": 7,
   "metadata": {},
   "outputs": [
    {
     "name": "stdout",
     "output_type": "stream",
     "text": [
      "I have a cat\n",
      " I have a mat\n"
     ]
    }
   ],
   "source": [
    "def sentence_searcher(txt,Str):\n",
    "    text=[]\n",
    "    text=txt.split('.')\n",
    "    for i in text:\n",
    "        if Str in i:\n",
    "            return i\n",
    "    else:\n",
    "        return \"\"\n",
    "print(sentence_searcher(\"I have a cat. I have a mat.Things are going swell\",\"have\"))\n",
    "print(sentence_searcher(\"I have a cat. I have a mat.Things are going swell\",\"mat\"))"
   ]
  },
  {
   "cell_type": "code",
   "execution_count": 28,
   "metadata": {},
   "outputs": [
    {
     "name": "stdout",
     "output_type": "stream",
     "text": [
      "[4, 30, 200, 1000]\n",
      "[10, 200, 4000, 50000]\n"
     ]
    }
   ],
   "source": [
    "def sum_round(num):\n",
    "    Str=str(num)\n",
    "    d='1'+'0'*(len(Str)-1)\n",
    "    int_d=int(d)\n",
    "    lis_num=[]\n",
    "    while int_d>=1:\n",
    "        nm=num//int_d\n",
    "        lis_num.append(nm*int_d)\n",
    "        num=num%int_d\n",
    "        int_d=int_d//10\n",
    "    lis_num =lis_num[::-1]\n",
    "    if lis_num[0]==0:\n",
    "        lis_num.pop(0)\n",
    "    return lis_num\n",
    "\n",
    "print(sum_round(1234))\n",
    "print(sum_round(54210))"
   ]
  },
  {
   "cell_type": "code",
   "execution_count": 29,
   "metadata": {},
   "outputs": [
    {
     "data": {
      "text/plain": [
       "[[1, 2, 3, 4, 5],\n",
       " [2, 4, 6, 8, 10],\n",
       " [3, 6, 9, 12, 15],\n",
       " [4, 8, 12, 16, 20],\n",
       " [5, 10, 15, 20, 25]]"
      ]
     },
     "execution_count": 29,
     "metadata": {},
     "output_type": "execute_result"
    }
   ],
   "source": [
    "def multiplication_table(num):\n",
    "    lis=[]\n",
    "    for i in range(1,num+1):\n",
    "        lis1=[]\n",
    "        for j in range(1,num+1):\n",
    "            lis1.append(i*j)\n",
    "        lis.append(lis1)    \n",
    "    return lis\n",
    "multiplication_table(5)\n"
   ]
  },
  {
   "cell_type": "code",
   "execution_count": 56,
   "metadata": {},
   "outputs": [
    {
     "data": {
      "text/plain": [
       "True"
      ]
     },
     "execution_count": 56,
     "metadata": {},
     "output_type": "execute_result"
    }
   ],
   "source": [
    "def does_rhyme(Str1,Str2):\n",
    "    punc = '''.!()-[]{};:'\"\\, <>./?@#$%^&*_~'''\n",
    "    Str1=Str1.lower()\n",
    "    Str2=Str2.lower()\n",
    "    for i in Str1:\n",
    "        if i in punc:\n",
    "            Str1=Str1.replace(i,'')\n",
    "    for i in Str2:\n",
    "        if i in punc:\n",
    "            Str2=Str2.replace(i,'')        \n",
    "    if Str1[-1]==Str2[-1]:\n",
    "        return True\n",
    "    else:\n",
    "        return False\n",
    "\n",
    "                \n",
    "does_rhyme(\"Sam I am!\",\"Green eggs and ham.\")            "
   ]
  },
  {
   "cell_type": "code",
   "execution_count": null,
   "metadata": {},
   "outputs": [],
   "source": []
  }
 ],
 "metadata": {
  "kernelspec": {
   "display_name": "Python 3",
   "language": "python",
   "name": "python3"
  },
  "language_info": {
   "codemirror_mode": {
    "name": "ipython",
    "version": 3
   },
   "file_extension": ".py",
   "mimetype": "text/x-python",
   "name": "python",
   "nbconvert_exporter": "python",
   "pygments_lexer": "ipython3",
   "version": "3.8.3"
  }
 },
 "nbformat": 4,
 "nbformat_minor": 4
}
