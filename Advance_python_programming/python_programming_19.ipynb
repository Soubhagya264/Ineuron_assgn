{
 "cells": [
  {
   "cell_type": "code",
   "execution_count": 2,
   "metadata": {},
   "outputs": [
    {
     "name": "stdout",
     "output_type": "stream",
     "text": [
      "[['A', 'B', 'A'], ['B', 'A', 'B'], ['A', 'B', 'A']]\n",
      "[['C', 'D', 'C', 'D'], ['D', 'C', 'D', 'C'], ['C', 'D', 'C', 'D'], ['D', 'C', 'D', 'C']]\n"
     ]
    }
   ],
   "source": [
    "def checker_board(n,ele1, ele2):\n",
    "    lis=[]\n",
    "    for i in range(n):\n",
    "        lis1=[]\n",
    "        for j in range(n):\n",
    "            if i==0 and j==0:\n",
    "                lis1.append(ele1)\n",
    "            elif  (j==0 and i!=0) and lis[i-1][j]==ele1:\n",
    "                lis1.append(ele2)\n",
    "            elif  (j==0 and i!=0) and lis[i-1][j]==ele2:\n",
    "                lis1.append(ele1) \n",
    "            elif i!=0 and lis[i-1][j]==ele1 and lis1[j-1]==ele1:\n",
    "                lis1.append(ele2)\n",
    "            elif i!=0 and lis[i-1][j]==ele2 and lis1[j-1]==ele2:\n",
    "                lis1.append(ele1)  \n",
    "            elif lis1[j-1]==ele1:\n",
    "                lis1.append(ele2)\n",
    "            else:\n",
    "                lis1.append(ele1)\n",
    "        lis.append(lis1)  \n",
    "    return lis   \n",
    "print(checker_board(3,\"A\",\"B\"))  \n",
    "print(checker_board(4,\"C\",\"D\")) "
   ]
  },
  {
   "cell_type": "code",
   "execution_count": 17,
   "metadata": {},
   "outputs": [
    {
     "name": "stdout",
     "output_type": "stream",
     "text": [
      "4\n"
     ]
    }
   ],
   "source": [
    "def print_primes_till_N(N): \n",
    "    i, j, flag,count = 0, 0, 0,0; \n",
    "    for i in range(1, N + 1, 1):\n",
    "        if (i == 1 or i == 0):\n",
    "            continue;\n",
    "        flag = 1; \n",
    "        for j in range(2, ((i // 2) + 1), 1):\n",
    "            if (i % j == 0):\n",
    "                flag = 0;\n",
    "                break;\n",
    "        if (flag == 1):\n",
    "            count+=1\n",
    "    return count\n",
    "N = 10;\n",
    "print(print_primes_till_N(N));"
   ]
  },
  {
   "cell_type": "code",
   "execution_count": 15,
   "metadata": {},
   "outputs": [
    {
     "name": "stdout",
     "output_type": "stream",
     "text": [
      "['Monday', 'Friday']\n",
      "['Tuesday', 'Wednesday', 'Satureday', 'Monday']\n"
     ]
    }
   ],
   "source": [
    "def after_n_days(lis,num):\n",
    "    days=[\"Sunday\",\"Monday\",\"Tuesday\",\"Wednesday\",\"Thrusday\",\"Friday\",\"Satureday\"]\n",
    "    lis1=[]\n",
    "    for v in (lis):\n",
    "        index=days.index(v)\n",
    "        val=(index+num)%len(days)\n",
    "        lis1.append(days[val])\n",
    "    return lis1    \n",
    "print(after_n_days([\"Thrusday\",\"Monday\"],4))\n",
    "print(after_n_days([\"Monday\",\"Tuesday\",\"Friday\",\"Sunday\"],1))"
   ]
  },
  {
   "cell_type": "code",
   "execution_count": 34,
   "metadata": {},
   "outputs": [
    {
     "name": "stdout",
     "output_type": "stream",
     "text": [
      "True\n",
      "False\n"
     ]
    }
   ],
   "source": [
    "def is_correct_aliases(lis1,lis2):\n",
    "    lis3=[]\n",
    "    flag=True\n",
    "    for i in lis2:\n",
    "        lis3.append(i.split(' '))\n",
    "    for i in range(len(lis2)):  \n",
    "        if lis1[i][0]!=lis3[i][0][0] or lis1[i][0]!=lis3[i][1][0]:\n",
    "            flag=False\n",
    "    if flag:\n",
    "        return True\n",
    "    else:\n",
    "        return False\n",
    "    \n",
    "print(is_correct_aliases([\"Adrian M.\", \"Harriet S.\", \"Mandy T.\"], [\"Amazing Artichoke\",\"Hopeful Hedgehog\", \"Marvelous Mouse\"]))\n",
    "print(is_correct_aliases([\"Beth T.\"], [\"Brandishing Mimosa\"]))  "
   ]
  },
  {
   "cell_type": "code",
   "execution_count": null,
   "metadata": {},
   "outputs": [],
   "source": []
  }
 ],
 "metadata": {
  "kernelspec": {
   "display_name": "Python 3",
   "language": "python",
   "name": "python3"
  },
  "language_info": {
   "codemirror_mode": {
    "name": "ipython",
    "version": 3
   },
   "file_extension": ".py",
   "mimetype": "text/x-python",
   "name": "python",
   "nbconvert_exporter": "python",
   "pygments_lexer": "ipython3",
   "version": "3.8.3"
  }
 },
 "nbformat": 4,
 "nbformat_minor": 4
}
