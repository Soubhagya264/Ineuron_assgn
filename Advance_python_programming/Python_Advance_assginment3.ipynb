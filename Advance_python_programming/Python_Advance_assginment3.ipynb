{
 "cells": [
  {
   "cell_type": "code",
   "execution_count": 23,
   "metadata": {},
   "outputs": [
    {
     "name": "stdout",
     "output_type": "stream",
     "text": [
      "24\n",
      "-1\n"
     ]
    }
   ],
   "source": [
    "def arithmetic_op(Str):\n",
    "    stack=[]\n",
    "    [stack.append(i) for i in Str.split() if i.isdigit()]\n",
    "         \n",
    "    def add():\n",
    "        return int(stack.pop(0)) + int(stack.pop(-1))\n",
    "    def sub():\n",
    "        return int(stack.pop(0))-int(stack.pop(-1))\n",
    "    def mul():\n",
    "        return int(stack.pop(0))*int(stack.pop(-1))\n",
    "    def floardiv():\n",
    "        if int(stack.pop(1))==0:\n",
    "            return -1\n",
    "        else:\n",
    "            return int(stack.pop(0))//int(stack.pop(-1))\n",
    "    def div():\n",
    "         if int(stack.pop(-1))==0:\n",
    "            return -1\n",
    "         else:\n",
    "            return int(stack.pop(0))/int(stack.pop(-1))\n",
    "    op_dic={\"+\":\"add\",\"-\":\"sub\",\"*\":\"mul\",\"//\":\"flordiv\",'/':\"div\"}\n",
    "            \n",
    "    for i in Str:\n",
    "        if i in op_dic.keys():\n",
    "            if op_dic[i]==\"add\":\n",
    "                return add()\n",
    "            elif op_dic[i]==\"sub\":\n",
    "                return sub()\n",
    "            elif op_dic[i]==\"mul\":\n",
    "                return mul()\n",
    "            elif op_dic[i]==\"flordiv\":\n",
    "                return floardiv()\n",
    "            elif op_dic[i]==\"div\":\n",
    "                return div()\n",
    "            else:\n",
    "                return \"Wrong input you have given\"\n",
    "  \n",
    "    \n",
    "            \n",
    "print(arithmetic_op(\"12 + 12\"))\n",
    "print(arithmetic_op(\"12 // 0\"))"
   ]
  },
  {
   "cell_type": "code",
   "execution_count": 36,
   "metadata": {},
   "outputs": [
    {
     "data": {
      "text/plain": [
       "3.414213562373095"
      ]
     },
     "execution_count": 36,
     "metadata": {},
     "output_type": "execute_result"
    }
   ],
   "source": [
    "import math\n",
    "def perimeter(arr):\n",
    "    arr1=[]\n",
    "    res=0\n",
    "    for v in arr :\n",
    "        for i in v :\n",
    "            arr1.append(i)\n",
    "    return (math.sqrt((arr1[2]-arr1[0])**2 + (arr1[3]-arr1[1])**2) + math.sqrt((arr1[4]-arr1[2])**2 + (arr1[5]-arr1[3])**2)+math.sqrt((arr1[1]-arr1[4])**2 + (arr1[2]-arr1[5])**2))\n",
    "    \n",
    "perimeter([[0,0],[0,1],[1,0]])        "
   ]
  },
  {
   "cell_type": "code",
   "execution_count": 47,
   "metadata": {},
   "outputs": [],
   "source": [
    "# def tallest_skyscraper(arr,counter):\n",
    "#     def check_one(arr,i,j,counter,count):\n",
    "#         if i >=len(arr):\n",
    "#             return\n",
    "#         if arr[i][j]==1:\n",
    "#             count=count+1\n",
    "#             check_one(arr,i+1,j,counter,count)\n",
    "#             counter=max(counter,count)\n",
    "         \n",
    "         \n",
    "#     for i in range(len(arr)):\n",
    "#         for j in range(len(arr[0])):\n",
    "#             count=0\n",
    "#             check_one(arr,i,j,counter,count)\n",
    "#     return counter        \n",
    "                                                 \n",
    "   \n",
    "        \n",
    "# arr=[[0,1,0,0],\n",
    "#      [1,1,0,0],\n",
    "#      [1,1,0,1],\n",
    "#      [0,1,0,1]]\n",
    "# counter=0\n",
    "# print(tallest_skyscraper(arr,counter))"
   ]
  },
  {
   "cell_type": "code",
   "execution_count": 51,
   "metadata": {},
   "outputs": [
    {
     "data": {
      "text/plain": [
       "8200"
      ]
     },
     "execution_count": 51,
     "metadata": {},
     "output_type": "execute_result"
    }
   ],
   "source": [
    "def bonus(days):\n",
    "    res=0\n",
    "    if days >32:\n",
    "        remain_days_40=days-32\n",
    "        if remain_days_40<9 :\n",
    "            res=remain_days_40*325\n",
    "        elif remain_days_40>=9:\n",
    "            remain_days_48=remain_days_40-8\n",
    "            if remain_days_48 >8:\n",
    "                remain_greater_48=remain_days_48-8\n",
    "                res=8*325 +8*550+remain_greater_48*600\n",
    "            else:\n",
    "                res=8*325+remain_days_48*550\n",
    "        return res          \n",
    "    else:\n",
    "        return 0\n",
    "bonus(50)    "
   ]
  },
  {
   "cell_type": "code",
   "execution_count": 56,
   "metadata": {},
   "outputs": [
    {
     "name": "stdout",
     "output_type": "stream",
     "text": [
      "125\n",
      "134\n",
      "135\n"
     ]
    },
    {
     "data": {
      "text/plain": [
       "True"
      ]
     },
     "execution_count": 56,
     "metadata": {},
     "output_type": "execute_result"
    }
   ],
   "source": [
    "def is_disarium(num):\n",
    "    digi_count=len(str(num))\n",
    "    x=num\n",
    "    Sum=0\n",
    "    while x!=0:\n",
    "        r=x%10\n",
    "        Sum=(int)(Sum+(r**digi_count))\n",
    "        print(Sum)\n",
    "        digi_count-=1\n",
    "        x=x//10\n",
    "    if Sum==num:\n",
    "        return True\n",
    "    else:\n",
    "        return False\n",
    "is_disarium(135)        "
   ]
  },
  {
   "cell_type": "code",
   "execution_count": null,
   "metadata": {},
   "outputs": [],
   "source": []
  }
 ],
 "metadata": {
  "kernelspec": {
   "display_name": "Python 3",
   "language": "python",
   "name": "python3"
  },
  "language_info": {
   "codemirror_mode": {
    "name": "ipython",
    "version": 3
   },
   "file_extension": ".py",
   "mimetype": "text/x-python",
   "name": "python",
   "nbconvert_exporter": "python",
   "pygments_lexer": "ipython3",
   "version": "3.8.3"
  }
 },
 "nbformat": 4,
 "nbformat_minor": 4
}
