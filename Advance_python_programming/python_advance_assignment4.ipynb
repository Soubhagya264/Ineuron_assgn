{
 "cells": [
  {
   "cell_type": "code",
   "execution_count": 1,
   "metadata": {},
   "outputs": [
    {
     "data": {
      "text/plain": [
       "55"
      ]
     },
     "execution_count": 1,
     "metadata": {},
     "output_type": "execute_result"
    }
   ],
   "source": [
    "def fibbo(num):\n",
    "    if num==1 or num==2:\n",
    "        return 1\n",
    "    else:\n",
    "        return fibbo(num-1)+fibbo(num-2)\n",
    "fibbo(10)    "
   ]
  },
  {
   "cell_type": "code",
   "execution_count": 7,
   "metadata": {},
   "outputs": [
    {
     "name": "stdout",
     "output_type": "stream",
     "text": [
      "68 65 6c 6c 6f 20 77 6f 72 6c 64 \n"
     ]
    }
   ],
   "source": [
    "def AsciTOHexa(Str):\n",
    "    hexa=\"\"\n",
    "    for i in range(len(Str)):\n",
    "        ch=Str[i]\n",
    "        asc=ord(ch)\n",
    "        hx=hex(asc).lstrip('0x').rstrip('L')\n",
    "        hexa+=hx+' '\n",
    "    return hexa\n",
    "print(AsciTOHexa(\"hello world\"))"
   ]
  },
  {
   "cell_type": "code",
   "execution_count": 12,
   "metadata": {},
   "outputs": [
    {
     "data": {
      "text/plain": [
       "'Where did my vowels go?'"
      ]
     },
     "execution_count": 12,
     "metadata": {},
     "output_type": "execute_result"
    }
   ],
   "source": [
    "def uncensor(Str,vowel):\n",
    "    stack=[]\n",
    "    for i in vowel:\n",
    "        stack.append(i)\n",
    "    for i in Str:\n",
    "        if i ==\"*\":\n",
    "            Str=Str.replace(\"*\",stack.pop(0),1)        \n",
    "    return Str        \n",
    "uncensor(\"Wh*r* d*d my v*w*ls g*?\",\"eeioeo\")            "
   ]
  },
  {
   "cell_type": "code",
   "execution_count": 8,
   "metadata": {},
   "outputs": [
    {
     "data": {
      "text/plain": [
       "34560"
      ]
     },
     "execution_count": 8,
     "metadata": {},
     "output_type": "execute_result"
    }
   ],
   "source": [
    "def fact_of_fact(num):\n",
    "    def factorial(num):\n",
    "        fact=1\n",
    "        if num<2:\n",
    "            return 1\n",
    "        return num*factorial(num-1)    \n",
    "    factorial_no = 1\n",
    "    if num < 0:\n",
    "         print(\"Sorry, factorial does not exist for negative numbers\")\n",
    "    elif num == 0:\n",
    "         print(\"The factorial of 0 is 1\")\n",
    "    else:\n",
    "        while(num!=1):\n",
    "            fact=factorial(num)\n",
    "            factorial_no*=fact\n",
    "            num=num-1\n",
    "    return factorial_no\n",
    "fact_of_fact(5)"
   ]
  },
  {
   "cell_type": "code",
   "execution_count": null,
   "metadata": {},
   "outputs": [],
   "source": [
    "\n",
    "    "
   ]
  }
 ],
 "metadata": {
  "kernelspec": {
   "display_name": "Python 3",
   "language": "python",
   "name": "python3"
  },
  "language_info": {
   "codemirror_mode": {
    "name": "ipython",
    "version": 3
   },
   "file_extension": ".py",
   "mimetype": "text/x-python",
   "name": "python",
   "nbconvert_exporter": "python",
   "pygments_lexer": "ipython3",
   "version": "3.8.3"
  }
 },
 "nbformat": 4,
 "nbformat_minor": 4
}
