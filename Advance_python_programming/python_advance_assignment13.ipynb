{
 "cells": [
  {
   "cell_type": "code",
   "execution_count": 11,
   "metadata": {},
   "outputs": [
    {
     "data": {
      "text/plain": [
       "['b', 'g', 'w']"
      ]
     },
     "execution_count": 11,
     "metadata": {},
     "output_type": "execute_result"
    }
   ],
   "source": [
    "def remove_letters(lis,String):\n",
    "    lis1=[]\n",
    "    for i in String:\n",
    "        if (lis.count(i)>String.count(i)):\n",
    "            lis1.append(i)\n",
    "    for i in lis:\n",
    "        if i not in String:\n",
    "            lis1.append(i)\n",
    "    return lis1    \n",
    "remove_letters([\"b\",\"b\",\"l\",\"l\",\"g\",\"n\",\"o\",\"a\",\"w\"],\"balloon\")        "
   ]
  },
  {
   "cell_type": "code",
   "execution_count": 3,
   "metadata": {},
   "outputs": [
    {
     "data": {
      "text/plain": [
       "4"
      ]
     },
     "execution_count": 3,
     "metadata": {},
     "output_type": "execute_result"
    }
   ],
   "source": [
    "def my_sub(x,y):\n",
    "    def subtract(x,y):   \n",
    "        if (y == 0):\n",
    "            return x\n",
    "        return subtract(x ^ y, (~x & y) << 1)\n",
    "\n",
    "    if x<y:\n",
    "        x,y=y,x\n",
    "        return subtract(x,y)\n",
    "my_sub(5,9)    \n"
   ]
  },
  {
   "cell_type": "code",
   "execution_count": 18,
   "metadata": {},
   "outputs": [
    {
     "data": {
      "text/plain": [
       "70"
      ]
     },
     "execution_count": 18,
     "metadata": {},
     "output_type": "execute_result"
    }
   ],
   "source": [
    "def add_bills(Str):\n",
    "    num=0\n",
    "    Str=Str.split(',')\n",
    "    for i in Str:\n",
    "        if i.startswith('d'):\n",
    "            num+=(int(re.findall(r'\\d+', i)[0]))\n",
    "    return num        \n",
    "add_bills(\"d20,p40,p60,d50\")    "
   ]
  },
  {
   "cell_type": "code",
   "execution_count": 20,
   "metadata": {},
   "outputs": [
    {
     "data": {
      "text/plain": [
       "[[1], [2], [3], [4]]"
      ]
     },
     "execution_count": 20,
     "metadata": {},
     "output_type": "execute_result"
    }
   ],
   "source": [
    "def flip_list(lst):\n",
    "    if not lst:\n",
    "        return lst\n",
    "\n",
    "    is_vertical = isinstance(lst[0], list)\n",
    "    \n",
    "    if is_vertical:\n",
    "        return [el[0] for el in lst]\n",
    "    \n",
    "    return [[el] for el in lst]\n",
    "flip_list([1,2,3,4])"
   ]
  },
  {
   "cell_type": "code",
   "execution_count": null,
   "metadata": {},
   "outputs": [],
   "source": []
  }
 ],
 "metadata": {
  "kernelspec": {
   "display_name": "Python 3",
   "language": "python",
   "name": "python3"
  },
  "language_info": {
   "codemirror_mode": {
    "name": "ipython",
    "version": 3
   },
   "file_extension": ".py",
   "mimetype": "text/x-python",
   "name": "python",
   "nbconvert_exporter": "python",
   "pygments_lexer": "ipython3",
   "version": "3.8.3"
  }
 },
 "nbformat": 4,
 "nbformat_minor": 4
}
