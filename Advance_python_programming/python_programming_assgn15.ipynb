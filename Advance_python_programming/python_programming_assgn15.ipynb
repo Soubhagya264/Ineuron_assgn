{
 "cells": [
  {
   "cell_type": "code",
   "execution_count": 7,
   "metadata": {},
   "outputs": [
    {
     "name": "stdout",
     "output_type": "stream",
     "text": [
      "True\n",
      "False\n"
     ]
    }
   ],
   "source": [
    "def anagram(lis,s):\n",
    "    s=s.replace(' ','')\n",
    "    s=s.lower()\n",
    "    S=''.join(lis)\n",
    "    S=sorted(S)\n",
    "    s=sorted(s)\n",
    "    if ''.join(S) == ''.join(s):\n",
    "        return True\n",
    "    else:\n",
    "        return False\n",
    "\n",
    "print(anagram(lis=[\"injures\",'ebb','it'],s='Justin Bieber'))\n",
    "print(anagram(lis=[\"chirps\",\"rat\"],s='Chris Pratt'))"
   ]
  },
  {
   "cell_type": "code",
   "execution_count": 21,
   "metadata": {},
   "outputs": [
    {
     "data": {
      "text/plain": [
       "[{'name': 'c', 'score': 115, 'reputation': 30},\n",
       " {'name': 'b', 'score': 90, 'reputation': 40},\n",
       " {'name': 'a', 'score': 100, 'reputation': 20}]"
      ]
     },
     "execution_count": 21,
     "metadata": {},
     "output_type": "execute_result"
    }
   ],
   "source": [
    "def leaderboards(lisdic):\n",
    "    lis=[]\n",
    "    lis=sorted(lisdic, key = lambda i: i['score']+(i['reputation']*2),reverse=True)\n",
    "    return lis\n",
    "leaderboards([{'name':\"a\",\"score\":100,'reputation':20},\n",
    "             {'name':\"b\",\"score\":90,'reputation':40},\n",
    "             {'name':\"c\",\"score\":115,'reputation':30}])"
   ]
  },
  {
   "cell_type": "code",
   "execution_count": 28,
   "metadata": {},
   "outputs": [
    {
     "name": "stdout",
     "output_type": "stream",
     "text": [
      "-e---o--e-\n",
      "tree\n",
      "P----n-r----\n"
     ]
    }
   ],
   "source": [
    "def hangman(Str,lis):\n",
    "    s=''\n",
    "    for i in Str:\n",
    "        if i.lower() in lis:\n",
    "            s+=i\n",
    "        else:\n",
    "            s+='-'\n",
    "    return s\n",
    "print(hangman('helicopter',['o','e','s']))\n",
    "print(hangman('tree',['r','t','e']))\n",
    "print(hangman('Python rules',['a','n','p','r','z']))    "
   ]
  },
  {
   "cell_type": "code",
   "execution_count": 46,
   "metadata": {},
   "outputs": [
    {
     "name": "stdout",
     "output_type": "stream",
     "text": [
      "16\n",
      "256\n"
     ]
    }
   ],
   "source": [
    "def max_collatz(num):\n",
    "    lis=[]\n",
    "    lis.append(num)\n",
    "    while num!=1:\n",
    "        if num%2==0:\n",
    "            lis.append(num//2)\n",
    "            num=num//2\n",
    "        elif num%2!=0:\n",
    "            lis.append((num*3)+1)\n",
    "            num=(num*3)+1\n",
    "    return max(lis)\n",
    "\n",
    "print(max_collatz(10))\n",
    "print(max_collatz(85))       "
   ]
  },
  {
   "cell_type": "code",
   "execution_count": 55,
   "metadata": {},
   "outputs": [
    {
     "name": "stdout",
     "output_type": "stream",
     "text": [
      "[101, 77, 23, 5, 7]\n",
      "[789, 563, 444, 1, 5, 9, 2]\n"
     ]
    }
   ],
   "source": [
    "def digit_sort(lis):\n",
    "    for i in range (len(lis)):\n",
    "        for j in range(0,len(lis)-i-1):\n",
    "            if len(str(lis[j]))<len(str(lis[j+1])):\n",
    "                lis[j],lis[j+1]=lis[j+1],lis[j]\n",
    "            \n",
    "    return lis \n",
    "print(digit_sort(lis=[77, 23, 5, 7, 101]))\n",
    "print(digit_sort([1, 5, 9, 2, 789, 563, 444]))"
   ]
  },
  {
   "cell_type": "code",
   "execution_count": null,
   "metadata": {},
   "outputs": [],
   "source": []
  }
 ],
 "metadata": {
  "kernelspec": {
   "display_name": "Python 3",
   "language": "python",
   "name": "python3"
  },
  "language_info": {
   "codemirror_mode": {
    "name": "ipython",
    "version": 3
   },
   "file_extension": ".py",
   "mimetype": "text/x-python",
   "name": "python",
   "nbconvert_exporter": "python",
   "pygments_lexer": "ipython3",
   "version": "3.8.3"
  }
 },
 "nbformat": 4,
 "nbformat_minor": 4
}
