{
 "cells": [
  {
   "cell_type": "code",
   "execution_count": 2,
   "metadata": {},
   "outputs": [
    {
     "data": {
      "text/plain": [
       "[[1, 2, 3], [2, 2, 3], [3, 3, 3]]"
      ]
     },
     "execution_count": 2,
     "metadata": {},
     "output_type": "execute_result"
    }
   ],
   "source": [
    "def transpose_matrix(mat):\n",
    "    for i in range(len(mat)):\n",
    "        for j in range(len(mat[0])):\n",
    "            mat[i][j]=mat[j][i]\n",
    "    return mat\n",
    "\n",
    "transpose_matrix([\n",
    "[1, 1, 1],\n",
    "[2, 2, 2],\n",
    "[3, 3, 3]\n",
    "])"
   ]
  },
  {
   "cell_type": "code",
   "execution_count": 4,
   "metadata": {},
   "outputs": [
    {
     "name": "stdout",
     "output_type": "stream",
     "text": [
      "#1AFFa1 : True\n",
      "#1AFFa1 : False\n"
     ]
    }
   ],
   "source": [
    "import re\n",
    " \n",
    "def is_Valid_Hex_Code(str):\n",
    " \n",
    "    regex = \"^#([A-Fa-f0-9]{6}|[A-Fa-f0-9]{3})$\"\n",
    "    p = re.compile(regex)\n",
    " \n",
    "    if(str == None):\n",
    "        return False\n",
    " \n",
    "    if(re.search(p, str)):\n",
    "        return True\n",
    "    else:\n",
    "        return False\n",
    "\n",
    "str1 = \"#1AFFa1\"\n",
    "print(str1, \":\", is_Valid_Hex_Code(str1))\n",
    "str2=\"#CD5C58C\"\n",
    "print(str1, \":\", is_Valid_Hex_Code(str2))"
   ]
  },
  {
   "cell_type": "code",
   "execution_count": null,
   "metadata": {},
   "outputs": [],
   "source": []
  }
 ],
 "metadata": {
  "kernelspec": {
   "display_name": "Python 3",
   "language": "python",
   "name": "python3"
  },
  "language_info": {
   "codemirror_mode": {
    "name": "ipython",
    "version": 3
   },
   "file_extension": ".py",
   "mimetype": "text/x-python",
   "name": "python",
   "nbconvert_exporter": "python",
   "pygments_lexer": "ipython3",
   "version": "3.8.3"
  }
 },
 "nbformat": 4,
 "nbformat_minor": 4
}
