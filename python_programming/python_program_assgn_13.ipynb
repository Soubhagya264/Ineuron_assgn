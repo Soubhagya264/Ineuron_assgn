{
 "cells": [
  {
   "cell_type": "code",
   "execution_count": 11,
   "metadata": {},
   "outputs": [
    {
     "name": "stdout",
     "output_type": "stream",
     "text": [
      "Enter value100,150,180\n",
      "[18, 22, 24]\n"
     ]
    }
   ],
   "source": [
    "##Q1\n",
    "import math\n",
    "C=50\n",
    "H=30\n",
    "D=list(map(int,input(\"Enter Input\").split(',')))\n",
    "Q=[]\n",
    "for i in D:\n",
    "    n=math.sqrt((2*C*i)/H)\n",
    "    Q.append(int(n))\n",
    "print(Q)    "
   ]
  },
  {
   "cell_type": "code",
   "execution_count": 19,
   "metadata": {},
   "outputs": [
    {
     "name": "stdout",
     "output_type": "stream",
     "text": [
      "Enter Input3,4\n",
      "[[0, 0, 0, 0], [0, 1, 2, 3], [0, 2, 4, 6]]\n"
     ]
    }
   ],
   "source": [
    "X,Y=map(int,input(\"Enter Input\").split(','))\n",
    "arr=[]\n",
    "for i in range(X):\n",
    "    a=[]\n",
    "    for j in range(Y):\n",
    "        a.append(i*j)\n",
    "    arr.append(a)\n",
    "print(arr)        "
   ]
  },
  {
   "cell_type": "code",
   "execution_count": 24,
   "metadata": {},
   "outputs": [
    {
     "name": "stdout",
     "output_type": "stream",
     "text": [
      "Enter Inputwithout,HeLLo,Bag,world\n",
      "['bag', 'hello', 'without', 'world']\n"
     ]
    }
   ],
   "source": [
    "Str=list(map(str,input(\"Enter Input\").split(',')))\n",
    "Str = [word.lower() for word in Str]\n",
    "print(sorted(Str))\n"
   ]
  },
  {
   "cell_type": "code",
   "execution_count": 31,
   "metadata": {},
   "outputs": [
    {
     "name": "stdout",
     "output_type": "stream",
     "text": [
      "Enter string hello world and practice makes perfect and hello world again\n",
      "again and hello makes perfect practice world\n"
     ]
    }
   ],
   "source": [
    "Str=input(\"Enter string \")\n",
    "Str=Str.split(' ')\n",
    "Str=set(Str)\n",
    "Str=sorted(Str)\n",
    "print(' '.join(word for word in Str))\n"
   ]
  },
  {
   "cell_type": "code",
   "execution_count": 32,
   "metadata": {},
   "outputs": [
    {
     "name": "stdout",
     "output_type": "stream",
     "text": [
      "Enter a stringhello world! 123\n",
      "Letters 10\n",
      "Digits 3\n"
     ]
    }
   ],
   "source": [
    "Str = input(\"Enter a string\")\n",
    "d=0\n",
    "l=0\n",
    "for c_d in Str:\n",
    "    if c_d.isdigit():\n",
    "        d=d+1\n",
    "    elif c_d.isalpha():\n",
    "        l=l+1\n",
    "    else:\n",
    "        pass\n",
    "print(\"Letters\", l)\n",
    "print(\"Digits\", d)"
   ]
  },
  {
   "cell_type": "code",
   "execution_count": null,
   "metadata": {},
   "outputs": [],
   "source": []
  }
 ],
 "metadata": {
  "kernelspec": {
   "display_name": "Python 3",
   "language": "python",
   "name": "python3"
  },
  "language_info": {
   "codemirror_mode": {
    "name": "ipython",
    "version": 3
   },
   "file_extension": ".py",
   "mimetype": "text/x-python",
   "name": "python",
   "nbconvert_exporter": "python",
   "pygments_lexer": "ipython3",
   "version": "3.8.3"
  }
 },
 "nbformat": 4,
 "nbformat_minor": 4
}
