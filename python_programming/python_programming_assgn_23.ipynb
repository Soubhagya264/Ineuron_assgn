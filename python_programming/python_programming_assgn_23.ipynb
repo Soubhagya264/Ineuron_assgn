{
 "cells": [
  {
   "cell_type": "code",
   "execution_count": 2,
   "metadata": {},
   "outputs": [
    {
     "name": "stdout",
     "output_type": "stream",
     "text": [
      "True\n",
      "False\n"
     ]
    }
   ],
   "source": [
    "def is_symmetrical(number):\n",
    "    convt_str=str(number)\n",
    "    if convt_str==convt_str[::-1]:\n",
    "        return True\n",
    "    else:\n",
    "        return False\n",
    "print(is_symmetrical(7227))\n",
    "print(is_symmetrical(12567))"
   ]
  },
  {
   "cell_type": "code",
   "execution_count": 13,
   "metadata": {},
   "outputs": [
    {
     "data": {
      "text/plain": [
       "24"
      ]
     },
     "execution_count": 13,
     "metadata": {},
     "output_type": "execute_result"
    }
   ],
   "source": [
    "def multiply_nums(num_str):\n",
    "    mul=1\n",
    "    num_str_lis=num_str.split(\",\")\n",
    "    for i in range(len(num_str_lis)):\n",
    "        mul*=int(num_str_lis[i])\n",
    "    return mul\n",
    "multiply_nums(\"1,2,3,4\")        "
   ]
  },
  {
   "cell_type": "code",
   "execution_count": 17,
   "metadata": {},
   "outputs": [
    {
     "name": "stdout",
     "output_type": "stream",
     "text": [
      "811181\n",
      "416649\n"
     ]
    }
   ],
   "source": [
    "def square_digits(num):\n",
    "    str_num=str(num)\n",
    "    res=\"\"\n",
    "    for i in range(len(str_num)):\n",
    "        res+=str(int(str_num[i])**2)\n",
    "    return int(res)    \n",
    "print(square_digits(9119))\n",
    "print(square_digits(2483))"
   ]
  },
  {
   "cell_type": "code",
   "execution_count": 19,
   "metadata": {},
   "outputs": [
    {
     "data": {
      "text/plain": [
       "[1, 2, 3, 4, 5]"
      ]
     },
     "execution_count": 19,
     "metadata": {},
     "output_type": "execute_result"
    }
   ],
   "source": [
    "def setify(lis):\n",
    "    s=set(lis)\n",
    "    l=list(s)\n",
    "    return sorted(l)\n",
    "setify([3,3,3,2,5,1,4])"
   ]
  },
  {
   "cell_type": "code",
   "execution_count": 20,
   "metadata": {},
   "outputs": [
    {
     "data": {
      "text/plain": [
       "2"
      ]
     },
     "execution_count": 20,
     "metadata": {},
     "output_type": "execute_result"
    }
   ],
   "source": [
    "def mean(num):\n",
    "    str_num=str(num)\n",
    "    res=0\n",
    "    for i in str_num:\n",
    "        res+=int(i)\n",
    "    return res//len(str_num)\n",
    "mean(512)"
   ]
  },
  {
   "cell_type": "code",
   "execution_count": null,
   "metadata": {},
   "outputs": [],
   "source": []
  }
 ],
 "metadata": {
  "kernelspec": {
   "display_name": "Python 3",
   "language": "python",
   "name": "python3"
  },
  "language_info": {
   "codemirror_mode": {
    "name": "ipython",
    "version": 3
   },
   "file_extension": ".py",
   "mimetype": "text/x-python",
   "name": "python",
   "nbconvert_exporter": "python",
   "pygments_lexer": "ipython3",
   "version": "3.8.3"
  }
 },
 "nbformat": 4,
 "nbformat_minor": 4
}
