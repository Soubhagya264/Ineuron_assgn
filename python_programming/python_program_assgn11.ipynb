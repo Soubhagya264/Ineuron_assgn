{
 "cells": [
  {
   "cell_type": "code",
   "execution_count": 7,
   "metadata": {},
   "outputs": [
    {
     "name": "stdout",
     "output_type": "stream",
     "text": [
      "Data Science Student Ineuron "
     ]
    }
   ],
   "source": [
    "#Q1\n",
    "st=\"I'm a Data Science Student at Ineuron\"\n",
    "k=3\n",
    "lis=list()\n",
    "lis=st.split(' ')\n",
    "for i in lis:\n",
    "    if len(i)>k:\n",
    "        print(i,end=' ')"
   ]
  },
  {
   "cell_type": "code",
   "execution_count": 21,
   "metadata": {},
   "outputs": [
    {
     "name": "stdout",
     "output_type": "stream",
     "text": [
      "Ineron.ai\n"
     ]
    }
   ],
   "source": [
    "#Q2\n",
    "st=\"Ineuron.ai\"\n",
    "i=3\n",
    "for j in range(0,len(st)):\n",
    "    if j==i:\n",
    "        st=st.replace(st[j],'',1)\n",
    "        break\n",
    "print(st)        "
   ]
  },
  {
   "cell_type": "code",
   "execution_count": 23,
   "metadata": {},
   "outputs": [
    {
     "data": {
      "text/plain": [
       "\"I'm_a_Data_Science_Student_at_Ineuron\""
      ]
     },
     "execution_count": 23,
     "metadata": {},
     "output_type": "execute_result"
    }
   ],
   "source": [
    "#Q3\n",
    "st=\"I'm a Data Science Student at Ineuron\"\n",
    "lis=st.split(' ')\n",
    "st='_'.join(lis)\n",
    "st"
   ]
  },
  {
   "cell_type": "code",
   "execution_count": 28,
   "metadata": {},
   "outputs": [
    {
     "name": "stdout",
     "output_type": "stream",
     "text": [
      "It is a binary string\n"
     ]
    }
   ],
   "source": [
    "#Q4\n",
    "st='01010101'\n",
    "bin_='01'\n",
    "flag=True\n",
    "for i in st:\n",
    "    if i not in bin_:\n",
    "        flag=False\n",
    "if flag:\n",
    "    print(\"It is a binary string\")\n",
    "else:\n",
    "    print(\"Not a binary string\")\n",
    "        "
   ]
  },
  {
   "cell_type": "code",
   "execution_count": 29,
   "metadata": {},
   "outputs": [
    {
     "name": "stdout",
     "output_type": "stream",
     "text": [
      "['a', 'c', 'i', 'e', 'n']\n"
     ]
    }
   ],
   "source": [
    "#Q5\n",
    "st='DataScienceineuron'\n",
    "dup=[]\n",
    "for ch in st:\n",
    "    if st.count(ch)>1:\n",
    "        if ch not in dup:\n",
    "            dup.append(ch)\n",
    "print(dup)            \n",
    "        "
   ]
  },
  {
   "cell_type": "code",
   "execution_count": null,
   "metadata": {},
   "outputs": [],
   "source": []
  }
 ],
 "metadata": {
  "kernelspec": {
   "display_name": "Python 3",
   "language": "python",
   "name": "python3"
  },
  "language_info": {
   "codemirror_mode": {
    "name": "ipython",
    "version": 3
   },
   "file_extension": ".py",
   "mimetype": "text/x-python",
   "name": "python",
   "nbconvert_exporter": "python",
   "pygments_lexer": "ipython3",
   "version": "3.8.3"
  }
 },
 "nbformat": 4,
 "nbformat_minor": 4
}
