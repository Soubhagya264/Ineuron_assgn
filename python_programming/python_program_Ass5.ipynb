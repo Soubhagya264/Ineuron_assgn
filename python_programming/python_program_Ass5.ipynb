{
 "cells": [
  {
   "cell_type": "code",
   "execution_count": 3,
   "metadata": {},
   "outputs": [
    {
     "name": "stdout",
     "output_type": "stream",
     "text": [
      "Enter a number24\n",
      "Enter another number36\n",
      "72\n"
     ]
    }
   ],
   "source": [
    "#Q1 Find LCM\n",
    "a=int(input(\"Enter a number\"))\n",
    "b=int(input(\"Enter another number\"))\n",
    "greater=0\n",
    "if a>b:\n",
    "    greater=a\n",
    "else:\n",
    "    greater=b\n",
    "while(True):\n",
    "    if((greater%a==0)and(greater%b==0)):\n",
    "        lcm=greater\n",
    "        break\n",
    "    greater+=1\n",
    "print(lcm)    \n"
   ]
  },
  {
   "cell_type": "code",
   "execution_count": 9,
   "metadata": {},
   "outputs": [
    {
     "name": "stdout",
     "output_type": "stream",
     "text": [
      "Enter a number8\n",
      "Enter another number12\n",
      "4\n"
     ]
    }
   ],
   "source": [
    "#Q2 find HCF\n",
    "a=int(input(\"Enter a number\"))\n",
    "b=int(input(\"Enter another number\"))\n",
    "\n",
    "smaller=0 \n",
    "hcf=0\n",
    "if a>b:\n",
    "    samller=b\n",
    "else:\n",
    "    smaller=a\n",
    "for i in range(1,smaller+1):\n",
    "     if((a%i==0)and(b%i==0)):\n",
    "        hcf=i\n",
    "print(hcf)      "
   ]
  },
  {
   "cell_type": "code",
   "execution_count": 10,
   "metadata": {},
   "outputs": [
    {
     "name": "stdout",
     "output_type": "stream",
     "text": [
      "Enter a number6\n",
      "110\n"
     ]
    }
   ],
   "source": [
    "#Q3 convert decimal to binary\n",
    "\n",
    "a=int(input(\"Enter a number\"))\n",
    "\n",
    "print(\"{0:b}\".format(a))"
   ]
  },
  {
   "cell_type": "code",
   "execution_count": null,
   "metadata": {},
   "outputs": [],
   "source": [
    "s='AaBbCcDdEeFfGgHhIiJjKkLlMmNnOoPpQqRrSsTtUuVvWwXxYyZz'\n",
    "for i in range(len(s)):\n",
    "    print(' ASCII Value of',s[i], 'is' ,)"
   ]
  }
 ],
 "metadata": {
  "kernelspec": {
   "display_name": "Python 3",
   "language": "python",
   "name": "python3"
  },
  "language_info": {
   "codemirror_mode": {
    "name": "ipython",
    "version": 3
   },
   "file_extension": ".py",
   "mimetype": "text/x-python",
   "name": "python",
   "nbconvert_exporter": "python",
   "pygments_lexer": "ipython3",
   "version": "3.8.3"
  }
 },
 "nbformat": 4,
 "nbformat_minor": 4
}
