{
 "cells": [
  {
   "cell_type": "code",
   "execution_count": 1,
   "metadata": {},
   "outputs": [
    {
     "name": "stdout",
     "output_type": "stream",
     "text": [
      "Enter kilometer 2\n",
      "1.242742\n"
     ]
    }
   ],
   "source": [
    "#Q1> 1 kilometer is equal to 0.621371 miles\n",
    "k=float(input(\"Enter kilometer \"))\n",
    "m=k*0.621371\n",
    "print(m)\n"
   ]
  },
  {
   "cell_type": "code",
   "execution_count": 4,
   "metadata": {},
   "outputs": [
    {
     "name": "stdout",
     "output_type": "stream",
     "text": [
      "Enter celsius25\n",
      "77.0 f\n"
     ]
    }
   ],
   "source": [
    "#Q2>\n",
    "c=float(input(\"Enter celsius\"))\n",
    "f=(c*9/5)+32\n",
    "print(f,'f')"
   ]
  },
  {
   "cell_type": "code",
   "execution_count": 9,
   "metadata": {},
   "outputs": [
    {
     "name": "stdout",
     "output_type": "stream",
     "text": [
      "   November 2020\n",
      "Mo Tu We Th Fr Sa Su\n",
      "                   1\n",
      " 2  3  4  5  6  7  8\n",
      " 9 10 11 12 13 14 15\n",
      "16 17 18 19 20 21 22\n",
      "23 24 25 26 27 28 29\n",
      "30\n",
      "\n"
     ]
    }
   ],
   "source": [
    "# Q3>\n",
    "import calendar\n",
    "yy=2020\n",
    "mm=11\n",
    "print(calendar.month(yy,mm))\n"
   ]
  },
  {
   "cell_type": "code",
   "execution_count": 13,
   "metadata": {},
   "outputs": [
    {
     "name": "stdout",
     "output_type": "stream",
     "text": [
      "enter a1\n",
      "enter b5\n",
      "enter c6\n",
      "-2.0 -3.0\n"
     ]
    }
   ],
   "source": [
    "#Q4>\n",
    "#Quarditic equation\n",
    "#-b+-sqrt(b**2-4ac)/2a\n",
    "\n",
    "a=int(input(\"enter a\"))\n",
    "b=int(input(\"enter b\"))\n",
    "c=int(input(\"enter c\"))\n",
    "\n",
    "import math\n",
    "d=(b**2)-(4*a*c)\n",
    "\n",
    "s1=(-b+math.sqrt(d))/2*a\n",
    "s2=(-b-math.sqrt(d))/2*a\n",
    "\n",
    "print(s1,s2)\n"
   ]
  },
  {
   "cell_type": "code",
   "execution_count": 14,
   "metadata": {},
   "outputs": [
    {
     "name": "stdout",
     "output_type": "stream",
     "text": [
      "14\n",
      "12\n"
     ]
    }
   ],
   "source": [
    "a=12\n",
    "b=14\n",
    "a,b=b,a\n",
    "print(a)\n",
    "print(b)"
   ]
  },
  {
   "cell_type": "code",
   "execution_count": null,
   "metadata": {},
   "outputs": [],
   "source": []
  }
 ],
 "metadata": {
  "kernelspec": {
   "display_name": "Python 3",
   "language": "python",
   "name": "python3"
  },
  "language_info": {
   "codemirror_mode": {
    "name": "ipython",
    "version": 3
   },
   "file_extension": ".py",
   "mimetype": "text/x-python",
   "name": "python",
   "nbconvert_exporter": "python",
   "pygments_lexer": "ipython3",
   "version": "3.8.3"
  }
 },
 "nbformat": 4,
 "nbformat_minor": 4
}
