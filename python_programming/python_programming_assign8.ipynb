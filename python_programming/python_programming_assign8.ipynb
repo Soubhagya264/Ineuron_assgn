{
 "cells": [
  {
   "cell_type": "code",
   "execution_count": 20,
   "metadata": {},
   "outputs": [
    {
     "name": "stdout",
     "output_type": "stream",
     "text": [
      "Enter first matrix\n",
      "1 2 3\n",
      "4 5 6\n",
      "7 8 9\n",
      "Enter 2nd matrix\n",
      "3 2 1\n",
      "6 5 4\n",
      "9 8 7\n",
      "[4, 4, 4]\n",
      "[10, 10, 10]\n",
      "[16, 16, 16]\n"
     ]
    }
   ],
   "source": [
    "n=3\n",
    "print(\"Enter first matrix\")\n",
    "matrix1 = [[int(j) for j in input().split()] for i in range(n)]\n",
    "print(\"Enter 2nd matrix\")\n",
    "matrix2=[[int(j) for j in input().split()] for i in range(n)]\n",
    "\n",
    "res=[[0 for i in range(len(matrix1))] for j in range(len(matrix1[0]))]\n",
    "for i in range(0,len(matrix1)):\n",
    "    for j in range(0,len(matrix1[0])):\n",
    "        res[i][j]=matrix1[i][j]+matrix2[i][j]\n",
    "for r in res:\n",
    "    print(r) \n"
   ]
  },
  {
   "cell_type": "code",
   "execution_count": 38,
   "metadata": {},
   "outputs": [
    {
     "name": "stdout",
     "output_type": "stream",
     "text": [
      "[9, 12, 15]\n",
      "[19, 26, 33]\n",
      "[24, 33, 42]\n"
     ]
    }
   ],
   "source": [
    "#Q2> Multiplication of a matrix\n",
    "matrix1=[[1,2],\n",
    "         [3,4],\n",
    "        [4,5]]\n",
    "matrix2=[[1,2,3]\n",
    "         ,[4,5,6] ]\n",
    "res=[[0 for j in range(len(matrix2[0]))] for i in range(len(matrix1))]\n",
    "for i in range(0,len(matrix1)):\n",
    "    for j in range(0,len(matrix2[0])):\n",
    "        for k in range(len(matrix2)):\n",
    "             res[i][j] += matrix1[i][k] * matrix2[k][j]\n",
    "for r in res:\n",
    "    print(r)   "
   ]
  },
  {
   "cell_type": "code",
   "execution_count": 3,
   "metadata": {},
   "outputs": [
    {
     "name": "stdout",
     "output_type": "stream",
     "text": [
      "[1, 4, 7]\n",
      "[2, 5, 8]\n",
      "[3, 6, 9]\n"
     ]
    }
   ],
   "source": [
    "#Q3> transpose of a matrix\n",
    "mat=[[1,2,3]\n",
    "         ,[4,5,6],\n",
    "        [7,8,9]]\n",
    "for i in range(len(mat)):\n",
    "    for j in range(i,len(mat[0])):\n",
    "        mat[i][j],mat[j][i]=mat[j][i],mat[i][j]\n",
    "        \n",
    "for m in mat:       \n",
    "    print(m)        "
   ]
  },
  {
   "cell_type": "code",
   "execution_count": 10,
   "metadata": {},
   "outputs": [
    {
     "data": {
      "text/plain": [
       "['a', 'data', 'learner', 'nayak', 'science', 'soubhagya']"
      ]
     },
     "execution_count": 10,
     "metadata": {},
     "output_type": "execute_result"
    }
   ],
   "source": [
    "## Sort words in an alphabetical order  \n",
    "s=\"Soubhagya Nayak a data science learner\"\n",
    "s=s.lower()\n",
    "li=s.split()\n",
    "li.sort()\n",
    "li"
   ]
  },
  {
   "cell_type": "code",
   "execution_count": 13,
   "metadata": {},
   "outputs": [
    {
     "name": "stdout",
     "output_type": "stream",
     "text": [
      "Im a data science student Now Im going to make a data science project  \n"
     ]
    }
   ],
   "source": [
    "s=\"I'm a data science student, Now I'm going to make a data science project. !! \" \n",
    "punc= '''!()-[]{};:'\"\\,<>./?@#$%^&*_~'''\n",
    "new_s=\"\"\n",
    "for char in s:\n",
    "    if char not in punc:\n",
    "        new_s+=char\n",
    "print(new_s)        "
   ]
  },
  {
   "cell_type": "code",
   "execution_count": null,
   "metadata": {},
   "outputs": [],
   "source": []
  },
  {
   "cell_type": "code",
   "execution_count": null,
   "metadata": {},
   "outputs": [],
   "source": []
  },
  {
   "cell_type": "code",
   "execution_count": null,
   "metadata": {},
   "outputs": [],
   "source": []
  }
 ],
 "metadata": {
  "kernelspec": {
   "display_name": "Python 3",
   "language": "python",
   "name": "python3"
  },
  "language_info": {
   "codemirror_mode": {
    "name": "ipython",
    "version": 3
   },
   "file_extension": ".py",
   "mimetype": "text/x-python",
   "name": "python",
   "nbconvert_exporter": "python",
   "pygments_lexer": "ipython3",
   "version": "3.8.3"
  }
 },
 "nbformat": 4,
 "nbformat_minor": 4
}
