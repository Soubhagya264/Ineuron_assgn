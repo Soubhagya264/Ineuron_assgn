{
 "cells": [
  {
   "cell_type": "markdown",
   "metadata": {},
   "source": [
    "###### A number is called Disarium if sum of its digits powered with their respective positions is equal to the number itself."
   ]
  },
  {
   "cell_type": "code",
   "execution_count": 8,
   "metadata": {},
   "outputs": [
    {
     "name": "stdout",
     "output_type": "stream",
     "text": [
      "Disarium\n"
     ]
    }
   ],
   "source": [
    "import math\n",
    "def check(n):\n",
    "    count_digits = len(str(n))\n",
    "    sum = 0\n",
    "    x = n\n",
    "    while (x != 0):\n",
    "        r = x % 10\n",
    "\n",
    "        sum = (int)(sum + math.pow(r, count_digits))\n",
    "        count_digits = count_digits - 1\n",
    "        x = x // 10\n",
    "\n",
    "    if sum == n:\n",
    "        print(\"Disarium\")\n",
    "    else:\n",
    "        print(\" Not Disarium\")\n",
    "\n",
    "\n",
    "check(135)"
   ]
  },
  {
   "cell_type": "code",
   "execution_count": 24,
   "metadata": {},
   "outputs": [
    {
     "name": "stdout",
     "output_type": "stream",
     "text": [
      "1 2 3 4 5 6 7 8 9 89 "
     ]
    }
   ],
   "source": [
    "import math\n",
    "def check(n):\n",
    "    count_digits = len(str(n))\n",
    "    sum = 0\n",
    "    x = n\n",
    "    while (x != 0):\n",
    "        r = x % 10\n",
    "\n",
    "        sum = (int)(sum + math.pow(r, count_digits))\n",
    "        count_digits = count_digits - 1\n",
    "        x = x // 10\n",
    "    if sum == n:\n",
    "        return n\n",
    "    \n",
    "for i in range(1,100):\n",
    "    res=check(i)\n",
    "    if res!= None:\n",
    "        print(res,end=' ')"
   ]
  },
  {
   "cell_type": "code",
   "execution_count": 26,
   "metadata": {},
   "outputs": [
    {
     "data": {
      "text/plain": [
       "True"
      ]
     },
     "execution_count": 26,
     "metadata": {},
     "output_type": "execute_result"
    }
   ],
   "source": [
    "def SquareSum(n):\n",
    "    squareSum = 0;\n",
    "    while(n):\n",
    "        squareSum += (n % 10) * (n % 10);\n",
    "        n = int(n / 10);\n",
    "    return squareSum\n",
    "def happy(n):\n",
    "    s=n\n",
    "    f=n\n",
    "    while(True):\n",
    "        s=SquareSum(s)\n",
    "        f=SquareSum(SquareSum(f))\n",
    "        if(s!=f):\n",
    "            continue\n",
    "        else:\n",
    "            break\n",
    "    return (s==1)     \n",
    "h=happy(13)\n",
    "h"
   ]
  },
  {
   "cell_type": "code",
   "execution_count": 28,
   "metadata": {},
   "outputs": [
    {
     "name": "stdout",
     "output_type": "stream",
     "text": [
      "1 7 10 13 19 23 28 31 32 44 49 68 70 79 82 86 91 94 97 "
     ]
    }
   ],
   "source": [
    "def SquareSum(n):\n",
    "    squareSum = 0;\n",
    "    while(n):\n",
    "        squareSum += (n % 10) * (n % 10);\n",
    "        n = int(n / 10);\n",
    "    return squareSum\n",
    "def happy(n):\n",
    "    s=n\n",
    "    f=n\n",
    "    while(True):\n",
    "        s=SquareSum(s)\n",
    "        f=SquareSum(SquareSum(f))\n",
    "        if(s!=f):\n",
    "            continue\n",
    "        else:\n",
    "            break\n",
    "    if s==1:\n",
    "        return n\n",
    "for i in range(1,100):\n",
    "    res=happy(i)\n",
    "    if res is not None:\n",
    "        print(res,end=\" \")"
   ]
  },
  {
   "cell_type": "code",
   "execution_count": null,
   "metadata": {},
   "outputs": [],
   "source": []
  }
 ],
 "metadata": {
  "kernelspec": {
   "display_name": "Python 3",
   "language": "python",
   "name": "python3"
  },
  "language_info": {
   "codemirror_mode": {
    "name": "ipython",
    "version": 3
   },
   "file_extension": ".py",
   "mimetype": "text/x-python",
   "name": "python",
   "nbconvert_exporter": "python",
   "pygments_lexer": "ipython3",
   "version": "3.8.3"
  }
 },
 "nbformat": 4,
 "nbformat_minor": 4
}
