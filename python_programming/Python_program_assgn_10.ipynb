{
 "cells": [
  {
   "cell_type": "code",
   "execution_count": 7,
   "metadata": {},
   "outputs": [
    {
     "name": "stdout",
     "output_type": "stream",
     "text": [
      "55\n",
      "55\n"
     ]
    }
   ],
   "source": [
    "#Q1>\n",
    "lis=[1,2,3,4,5,6,7,8,9,10]\n",
    "total_sum=0\n",
    "for i in lis:\n",
    "    total_sum+=i\n",
    "print(total_sum)\n",
    "#Another way\n",
    "print(sum(lis))"
   ]
  },
  {
   "cell_type": "code",
   "execution_count": 9,
   "metadata": {},
   "outputs": [
    {
     "data": {
      "text/plain": [
       "3628800"
      ]
     },
     "execution_count": 9,
     "metadata": {},
     "output_type": "execute_result"
    }
   ],
   "source": [
    "#Q2>\n",
    "def multiply_list(lis,length):\n",
    "    if length==1:\n",
    "        return 1\n",
    "    else:\n",
    "        return lis[length-1]*multiply_list(lis,length-1)\n",
    "    \n",
    "lis=[1,2,3,4,5,6,7,8,9,10]\n",
    "length=len(lis)\n",
    "multiply_list(lis,length)"
   ]
  },
  {
   "cell_type": "code",
   "execution_count": 10,
   "metadata": {},
   "outputs": [
    {
     "name": "stdout",
     "output_type": "stream",
     "text": [
      "22\n"
     ]
    }
   ],
   "source": [
    "#Q3>\n",
    "lis=[76,44,55,332,27,234,22]\n",
    "min_=lis[0]\n",
    "for i in range(1,len(lis)):\n",
    "    if lis[i]<min_:\n",
    "        min_=lis[i]\n",
    "print(min_)        \n"
   ]
  },
  {
   "cell_type": "code",
   "execution_count": 11,
   "metadata": {},
   "outputs": [
    {
     "name": "stdout",
     "output_type": "stream",
     "text": [
      "332\n"
     ]
    }
   ],
   "source": [
    "#Q3>\n",
    "lis=[76,44,55,332,27,234,22]\n",
    "max_=lis[0]\n",
    "for i in range(1,len(lis)):\n",
    "    if lis[i]>max_:\n",
    "        max_=lis[i]\n",
    "print(max_)"
   ]
  },
  {
   "cell_type": "code",
   "execution_count": 12,
   "metadata": {},
   "outputs": [
    {
     "name": "stdout",
     "output_type": "stream",
     "text": [
      "77\n"
     ]
    }
   ],
   "source": [
    "#Q4>\n",
    "lis=[44,55,33,22,66,88,77]\n",
    "# Apporach is to sort the array and in Desc order and return the 2nd ele of the array\n",
    "\n",
    "# Best optimze soln is given below\n",
    "first=-1\n",
    "second=-1\n",
    "for i in range(0,len(lis)):\n",
    "    if first < lis[i]:\n",
    "        second=first\n",
    "        first=lis[i]\n",
    "    elif second <lis[i] and lis[i]!= first:\n",
    "        second=lis[i]\n",
    "print(second)                "
   ]
  },
  {
   "cell_type": "code",
   "execution_count": 15,
   "metadata": {},
   "outputs": [
    {
     "name": "stdout",
     "output_type": "stream",
     "text": [
      "[66, 77, 88]\n"
     ]
    }
   ],
   "source": [
    "#Q5>\n",
    "n=3\n",
    "lis=[44,55,33,22,66,88,77]\n",
    "lis.sort()\n",
    "print(lis[-n:])"
   ]
  },
  {
   "cell_type": "code",
   "execution_count": 16,
   "metadata": {},
   "outputs": [
    {
     "name": "stdout",
     "output_type": "stream",
     "text": [
      "Odd number 11\n",
      "Even number 22\n",
      "Odd number 33\n",
      "Even number 44\n",
      "Odd number 55\n"
     ]
    }
   ],
   "source": [
    "#Q6>\n",
    "lis=[11,22,33,44,55]\n",
    "for i in lis:\n",
    "    if i%2==0:\n",
    "        print(\"Even number\",i)\n",
    "    else:\n",
    "        print(\"Odd number\",i)"
   ]
  },
  {
   "cell_type": "code",
   "execution_count": 17,
   "metadata": {},
   "outputs": [
    {
     "name": "stdout",
     "output_type": "stream",
     "text": [
      "[[1, 2, 3], [4, 5, 6], [6, 7, 8]]\n"
     ]
    }
   ],
   "source": [
    "lis=[[1,2,3],[4,5,6],[],[6,7,8],[]]\n",
    "for l in lis:\n",
    "    for i in lis:\n",
    "        if i==[]:\n",
    "            lis.remove(i)\n",
    "print(lis)            "
   ]
  },
  {
   "cell_type": "code",
   "execution_count": 19,
   "metadata": {},
   "outputs": [
    {
     "name": "stdout",
     "output_type": "stream",
     "text": [
      "Occuracnce of  1 is 2\n",
      "Occuracnce of  2 is 2\n",
      "Occuracnce of  3 is 2\n",
      "Occuracnce of  4 is 1\n",
      "Occuracnce of  45 is 1\n",
      "Occuracnce of  6 is 1\n",
      "Occuracnce of  7 is 4\n",
      "Occuracnce of  52 is 1\n",
      "Occuracnce of  33 is 1\n"
     ]
    }
   ],
   "source": [
    "lis=[1,2,3,4,45,6,7,7,7,7,2,1,3,52,33]\n",
    "count={}\n",
    "for i in lis:\n",
    "    if i in count:\n",
    "        count[i]+=1\n",
    "    else:\n",
    "        count[i]=1\n",
    "for k , v in count.items():\n",
    "    print(\"Occuracnce of \",k, \"is\", v)\n"
   ]
  },
  {
   "cell_type": "code",
   "execution_count": null,
   "metadata": {},
   "outputs": [],
   "source": []
  }
 ],
 "metadata": {
  "kernelspec": {
   "display_name": "Python 3",
   "language": "python",
   "name": "python3"
  },
  "language_info": {
   "codemirror_mode": {
    "name": "ipython",
    "version": 3
   },
   "file_extension": ".py",
   "mimetype": "text/x-python",
   "name": "python",
   "nbconvert_exporter": "python",
   "pygments_lexer": "ipython3",
   "version": "3.8.3"
  }
 },
 "nbformat": 4,
 "nbformat_minor": 4
}
