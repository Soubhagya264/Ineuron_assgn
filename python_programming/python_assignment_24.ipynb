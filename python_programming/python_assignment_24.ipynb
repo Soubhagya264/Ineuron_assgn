{
 "cells": [
  {
   "cell_type": "code",
   "execution_count": 3,
   "metadata": {},
   "outputs": [
    {
     "data": {
      "text/plain": [
       "[1, 2, 3, 40, 5, 6, 7, 80, 9]"
      ]
     },
     "execution_count": 3,
     "metadata": {},
     "output_type": "execute_result"
    }
   ],
   "source": [
    "def amplify(num):\n",
    "    lis=[]\n",
    "    for i in range(1,num+1):\n",
    "        if i%4==0:\n",
    "            lis.append(i*10)\n",
    "        else:\n",
    "            lis.append(i)\n",
    "    return lis\n",
    "amplify(9)"
   ]
  },
  {
   "cell_type": "code",
   "execution_count": 6,
   "metadata": {},
   "outputs": [
    {
     "data": {
      "text/plain": [
       "7"
      ]
     },
     "execution_count": 6,
     "metadata": {},
     "output_type": "execute_result"
    }
   ],
   "source": [
    "def unique(num_lis):\n",
    "    freq={}\n",
    "    for i in num_lis:\n",
    "        if i in freq:\n",
    "            freq[i]+=1\n",
    "        else:\n",
    "            freq[i]=1\n",
    "    for k , v in freq.items():\n",
    "        if v ==1:\n",
    "            return k\n",
    "unique([3,3,3,3,3,7,3])        "
   ]
  },
  {
   "cell_type": "code",
   "execution_count": 11,
   "metadata": {},
   "outputs": [
    {
     "name": "stdout",
     "output_type": "stream",
     "text": [
      "380.061\n",
      "27.892080000000004\n"
     ]
    }
   ],
   "source": [
    "Pi=3.141\n",
    "class Circle():\n",
    "    def __init__(self,r):\n",
    "        self.r=r\n",
    "    def getArea(self):\n",
    "        global Pi\n",
    "        return Pi*(self.r)**2\n",
    "    def getPerimeter(self):\n",
    "        global Pi\n",
    "        return 2*Pi*self.r\n",
    "cir=Circle(11)\n",
    "print(cir.getArea())\n",
    "cir=Circle(4.44)\n",
    "print(cir.getPerimeter())\n",
    "        "
   ]
  },
  {
   "cell_type": "code",
   "execution_count": 18,
   "metadata": {},
   "outputs": [
    {
     "data": {
      "text/plain": [
       "['Apple', 'Google', 'Amazon', 'Microsoft']"
      ]
     },
     "execution_count": 18,
     "metadata": {},
     "output_type": "execute_result"
    }
   ],
   "source": [
    "def sort_by_length(lst):\n",
    "        lst.sort(key=len)\n",
    "        return lst\n",
    "sort_by_length([\"Google\", \"Apple\", \"Microsoft\",\"Amazon\"])    "
   ]
  },
  {
   "cell_type": "code",
   "execution_count": 20,
   "metadata": {},
   "outputs": [
    {
     "data": {
      "text/plain": [
       "True"
      ]
     },
     "execution_count": 20,
     "metadata": {},
     "output_type": "execute_result"
    }
   ],
   "source": [
    "def is_triplet(lis):\n",
    "    lis=sorted(lis)\n",
    "    if lis[0]**2+lis[1]**2==lis[2]**2:\n",
    "        return True\n",
    "    else :\n",
    "        return False\n",
    "is_triplet([13,12,5])    "
   ]
  },
  {
   "cell_type": "code",
   "execution_count": null,
   "metadata": {},
   "outputs": [],
   "source": []
  }
 ],
 "metadata": {
  "kernelspec": {
   "display_name": "Python 3",
   "language": "python",
   "name": "python3"
  },
  "language_info": {
   "codemirror_mode": {
    "name": "ipython",
    "version": 3
   },
   "file_extension": ".py",
   "mimetype": "text/x-python",
   "name": "python",
   "nbconvert_exporter": "python",
   "pygments_lexer": "ipython3",
   "version": "3.8.3"
  }
 },
 "nbformat": 4,
 "nbformat_minor": 4
}
