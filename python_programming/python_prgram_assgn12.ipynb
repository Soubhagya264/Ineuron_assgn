{
 "cells": [
  {
   "cell_type": "code",
   "execution_count": 1,
   "metadata": {},
   "outputs": [
    {
     "name": "stdout",
     "output_type": "stream",
     "text": [
      "Enter keya\n",
      "1 4 5 6\n",
      "Enter keyb\n",
      "7 6 5 8\n",
      "Enter keyc\n",
      "4 5 8 9\n",
      "Enter keyd\n",
      "6 9 8 5\n",
      "Enter keye\n",
      "9 7 10 11\n",
      "[1, 4, 5, 6, 7, 8, 9, 10, 11]\n"
     ]
    }
   ],
   "source": [
    "d={}\n",
    "for i in range(5):\n",
    "    key=(input('Enter key'))\n",
    "    val=[int(x) for x in input().split(' ')]\n",
    "    d[key]=val\n",
    "res=list(sorted({ele for val in d.values() for ele in val}))\n",
    "print(res)    "
   ]
  },
  {
   "cell_type": "code",
   "execution_count": 2,
   "metadata": {},
   "outputs": [
    {
     "name": "stdout",
     "output_type": "stream",
     "text": [
      "{'a': [1, 4, 5, 6], 'b': [7, 6, 5, 8], 'c': [4, 5, 8, 9], 'd': [6, 9, 8, 5], 'e': [9, 7, 10, 11]}\n"
     ]
    }
   ],
   "source": [
    "print(d)"
   ]
  },
  {
   "cell_type": "code",
   "execution_count": 11,
   "metadata": {},
   "outputs": [
    {
     "name": "stdout",
     "output_type": "stream",
     "text": [
      "sum of all list value of  a --->  16\n",
      "sum of all list value of  b --->  26\n",
      "sum of all list value of  c --->  28\n",
      "sum of all list value of  d --->  37\n",
      "Total sum of all element 107\n"
     ]
    }
   ],
   "source": [
    "sum_ele=list({sum(val) for val in d.values()})\n",
    "for key ,s_val  in zip(d.keys(),sum_ele):\n",
    "    print(\"sum of all list value of \",key,\"---> \",s_val)\n",
    "total_sum=sum(sum_ele)\n",
    "print(\"Total sum of all element\",total_sum)\n"
   ]
  },
  {
   "cell_type": "code",
   "execution_count": 13,
   "metadata": {},
   "outputs": [
    {
     "data": {
      "text/plain": [
       "{'a': 100, 'b': 200, 'C': 300, 'd': 400}"
      ]
     },
     "execution_count": 13,
     "metadata": {},
     "output_type": "execute_result"
    }
   ],
   "source": [
    "# Merge Dict\n",
    "dict1 = {'a': 100, 'b': 200}\n",
    "dict2 = {'C': 300, 'd': 400}\n",
    "\n",
    "dict1.update(dict2)\n",
    "dict1 "
   ]
  },
  {
   "cell_type": "code",
   "execution_count": 15,
   "metadata": {},
   "outputs": [
    {
     "data": {
      "text/plain": [
       "{1: 'a', 2: 'b', 3: 'c'}"
      ]
     },
     "execution_count": 15,
     "metadata": {},
     "output_type": "execute_result"
    }
   ],
   "source": [
    "# Flat dict\n",
    "dic={'a':[1,2,3],'b':['a','b','c']}\n",
    "dic2=dict(zip(dic['a'],dic['b']))\n",
    "dic2"
   ]
  },
  {
   "cell_type": "code",
   "execution_count": 18,
   "metadata": {},
   "outputs": [
    {
     "data": {
      "text/plain": [
       "OrderedDict([('a', 1), ('b', 2), ('c', 3)])"
      ]
     },
     "execution_count": 18,
     "metadata": {},
     "output_type": "execute_result"
    }
   ],
   "source": [
    "from collections import OrderedDict\n",
    "in_ord=OrderedDict([('b',2),('c',3)])\n",
    "in_ord.update({'a':1})\n",
    "in_ord.move_to_end('a',last=False)\n",
    "in_ord"
   ]
  },
  {
   "cell_type": "code",
   "execution_count": 33,
   "metadata": {},
   "outputs": [
    {
     "name": "stdout",
     "output_type": "stream",
     "text": [
      "( 1 , a ) ( 2 , b ) ( 3 , c ) ( 4 , d ) ( 5 , e ) "
     ]
    }
   ],
   "source": [
    "key_value ={1:\"a\",5:'e',3:'c',4:'d',2:'b'}\n",
    "for k , v in sorted (key_value.items()) : \n",
    "        print(\"(\",k,',',v,\")\" ,end = \" \")"
   ]
  },
  {
   "cell_type": "code",
   "execution_count": null,
   "metadata": {},
   "outputs": [],
   "source": []
  }
 ],
 "metadata": {
  "kernelspec": {
   "display_name": "Python 3",
   "language": "python",
   "name": "python3"
  },
  "language_info": {
   "codemirror_mode": {
    "name": "ipython",
    "version": 3
   },
   "file_extension": ".py",
   "mimetype": "text/x-python",
   "name": "python",
   "nbconvert_exporter": "python",
   "pygments_lexer": "ipython3",
   "version": "3.8.3"
  }
 },
 "nbformat": 4,
 "nbformat_minor": 4
}
