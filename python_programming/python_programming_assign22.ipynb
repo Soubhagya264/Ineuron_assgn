{
 "cells": [
  {
   "cell_type": "code",
   "execution_count": 2,
   "metadata": {},
   "outputs": [
    {
     "name": "stdout",
     "output_type": "stream",
     "text": [
      "[3, 6, 9]\n"
     ]
    }
   ],
   "source": [
    "def list_operation(i,j,n):\n",
    "    lis=[]\n",
    "    for i in range(i,j+1):\n",
    "        if i%n==0:\n",
    "            lis.append(i) \n",
    "    return lis\n",
    "print(list_operation(1,10,3))"
   ]
  },
  {
   "cell_type": "code",
   "execution_count": 3,
   "metadata": {},
   "outputs": [
    {
     "data": {
      "text/plain": [
       "True"
      ]
     },
     "execution_count": 3,
     "metadata": {},
     "output_type": "execute_result"
    }
   ],
   "source": [
    "def simon_says(lis1,lis2):\n",
    "    if lis1[0]!=lis2[1]:\n",
    "        return False\n",
    "    else:\n",
    "        return True\n",
    "simon_says([1, 2], [5, 1])   "
   ]
  },
  {
   "cell_type": "code",
   "execution_count": 5,
   "metadata": {},
   "outputs": [
    {
     "data": {
      "text/plain": [
       "'AMS'"
      ]
     },
     "execution_count": 5,
     "metadata": {},
     "output_type": "execute_result"
    }
   ],
   "source": [
    "def society_name(lis):\n",
    "    lis1=[]\n",
    "    for i in lis:\n",
    "        lis1.append(i[0])\n",
    "    return \"\".join(sorted(lis1))    \n",
    "print(society_name([\"Adam\",\"Sarah\",\"Malcom\"]))        "
   ]
  },
  {
   "cell_type": "code",
   "execution_count": 30,
   "metadata": {},
   "outputs": [
    {
     "name": "stdout",
     "output_type": "stream",
     "text": [
      "False\n",
      "True\n"
     ]
    }
   ],
   "source": [
    "def isogram(Str):\n",
    "    Str1=\"\"\n",
    "    lis=[]\n",
    "    Str1=Str.lower()\n",
    "    for i in Str1:\n",
    "        lis.append(Str1.count(i))\n",
    "    for i in lis:\n",
    "        if i>1:\n",
    "            return False  \n",
    "    return True\n",
    "    \n",
    "print(isogram(\"pasSword\"))\n",
    "print(isogram(\"Algorism\"))"
   ]
  },
  {
   "cell_type": "code",
   "execution_count": 34,
   "metadata": {},
   "outputs": [
    {
     "name": "stdout",
     "output_type": "stream",
     "text": [
      "True\n",
      "True\n",
      "True\n"
     ]
    }
   ],
   "source": [
    "def is_in_order(Str):\n",
    "    for i in range(1,len(Str)):\n",
    "        if Str[i]<Str[i-1]:\n",
    "            return False\n",
    "    return True\n",
    "print(is_in_order(\"abc\"))\n",
    "print(is_in_order(\"123\"))\n",
    "print(is_in_order(\"xxyz\"))"
   ]
  },
  {
   "cell_type": "code",
   "execution_count": null,
   "metadata": {},
   "outputs": [],
   "source": []
  }
 ],
 "metadata": {
  "kernelspec": {
   "display_name": "Python 3",
   "language": "python",
   "name": "python3"
  },
  "language_info": {
   "codemirror_mode": {
    "name": "ipython",
    "version": 3
   },
   "file_extension": ".py",
   "mimetype": "text/x-python",
   "name": "python",
   "nbconvert_exporter": "python",
   "pygments_lexer": "ipython3",
   "version": "3.8.3"
  }
 },
 "nbformat": 4,
 "nbformat_minor": 4
}
