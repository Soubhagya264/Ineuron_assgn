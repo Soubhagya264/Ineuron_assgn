{
 "cells": [
  {
   "cell_type": "code",
   "execution_count": 1,
   "metadata": {},
   "outputs": [
    {
     "name": "stdout",
     "output_type": "stream",
     "text": [
      "Enter a number5\n",
      "120\n"
     ]
    }
   ],
   "source": [
    "##Q1>Factorial of a number\n",
    "n=int(input(\"Enter a number\"))\n",
    "fa=1\n",
    "for i in range(1,n+1):\n",
    "    fa*=i\n",
    "print(fa)    \n"
   ]
  },
  {
   "cell_type": "code",
   "execution_count": 2,
   "metadata": {},
   "outputs": [
    {
     "name": "stdout",
     "output_type": "stream",
     "text": [
      "Enter a number10\n",
      "10 X 1 = 10\n",
      "10 X 2 = 20\n",
      "10 X 3 = 30\n",
      "10 X 4 = 40\n",
      "10 X 5 = 50\n",
      "10 X 6 = 60\n",
      "10 X 7 = 70\n",
      "10 X 8 = 80\n",
      "10 X 9 = 90\n",
      "10 X 10 = 100\n"
     ]
    }
   ],
   "source": [
    "#Q2\n",
    "n=int(input(\"Enter a number\"))\n",
    "for i in range(1,11):\n",
    "    print(n,'X',i,'=', n*i)"
   ]
  },
  {
   "cell_type": "code",
   "execution_count": 3,
   "metadata": {},
   "outputs": [
    {
     "name": "stdout",
     "output_type": "stream",
     "text": [
      "Enter a num 8\n",
      "0\n",
      "1\n",
      "1\n",
      "2\n",
      "3\n",
      "5\n",
      "8\n",
      "13\n"
     ]
    }
   ],
   "source": [
    "n1,n2=0,1\n",
    "nth=0\n",
    "count=0\n",
    "n=int(input(\"Enter a num \"))\n",
    "while count<n:\n",
    "    print(n1)\n",
    "    nth=n1+n2\n",
    "    n1=n2\n",
    "    n2=nth\n",
    "    count+=1\n",
    "    "
   ]
  },
  {
   "cell_type": "code",
   "execution_count": 28,
   "metadata": {},
   "outputs": [],
   "source": [
    "def generate():\n",
    "    d={'a':22,'b':33,'c':55}\n",
    "    for i , j in d.items():\n",
    "       # print(i)\n",
    "        #print(j)\n",
    "        return list(d.keys()).index(i)\n",
    "        "
   ]
  },
  {
   "cell_type": "code",
   "execution_count": 29,
   "metadata": {},
   "outputs": [
    {
     "data": {
      "text/plain": [
       "0"
      ]
     },
     "execution_count": 29,
     "metadata": {},
     "output_type": "execute_result"
    }
   ],
   "source": [
    "generate()"
   ]
  },
  {
   "cell_type": "code",
   "execution_count": 27,
   "metadata": {},
   "outputs": [],
   "source": [
    "generate()"
   ]
  },
  {
   "cell_type": "code",
   "execution_count": null,
   "metadata": {},
   "outputs": [],
   "source": []
  }
 ],
 "metadata": {
  "kernelspec": {
   "display_name": "Python 3",
   "language": "python",
   "name": "python3"
  },
  "language_info": {
   "codemirror_mode": {
    "name": "ipython",
    "version": 3
   },
   "file_extension": ".py",
   "mimetype": "text/x-python",
   "name": "python",
   "nbconvert_exporter": "python",
   "pygments_lexer": "ipython3",
   "version": "3.8.3"
  }
 },
 "nbformat": 4,
 "nbformat_minor": 4
}
