{
 "cells": [
  {
   "cell_type": "code",
   "execution_count": 3,
   "metadata": {},
   "outputs": [
    {
     "data": {
      "text/plain": [
       "'in... in... incredible?'"
      ]
     },
     "execution_count": 3,
     "metadata": {},
     "output_type": "execute_result"
    }
   ],
   "source": [
    "def stutter(Str):\n",
    "    st=Str[:2]\n",
    "    return f\"{st}... {st}... {Str}?\"\n",
    "stutter(\"incredible\")"
   ]
  },
  {
   "cell_type": "code",
   "execution_count": 6,
   "metadata": {},
   "outputs": [
    {
     "data": {
      "text/plain": [
       "1145.9165581759555"
      ]
     },
     "execution_count": 6,
     "metadata": {},
     "output_type": "execute_result"
    }
   ],
   "source": [
    "pi=3.14159\n",
    "def radian_to_degree(radian):\n",
    "    degree=radian*(180/ pi)\n",
    "    return degree\n",
    "radian_to_degree(20)"
   ]
  },
  {
   "cell_type": "code",
   "execution_count": 10,
   "metadata": {},
   "outputs": [
    {
     "name": "stdout",
     "output_type": "stream",
     "text": [
      "Enter a number14\n",
      "14 is Curzon num\n"
     ]
    }
   ],
   "source": [
    "def is_curzon(n):\n",
    "    p=2 ** n+1\n",
    "    m=2 * n+1\n",
    "    if p %m==0:\n",
    "        return True\n",
    "    else :\n",
    "        return False\n",
    "n=int(input(\"Enter a number\"))\n",
    "if is_curzon(n) :\n",
    "    print(f\"{n} is Curzon num\")\n",
    "else:\n",
    "    print(f\"{n} is Not Curzon num\")\n",
    "        \n",
    "    "
   ]
  },
  {
   "cell_type": "code",
   "execution_count": 16,
   "metadata": {},
   "outputs": [
    {
     "data": {
      "text/plain": [
       "23.382685902179844"
      ]
     },
     "execution_count": 16,
     "metadata": {},
     "output_type": "execute_result"
    }
   ],
   "source": [
    "def hexagon_area(s):\n",
    "    A=(3*(3**0.5)*s**2)/2\n",
    "    return A\n",
    "hexagon_area(3)"
   ]
  },
  {
   "cell_type": "code",
   "execution_count": 26,
   "metadata": {},
   "outputs": [
    {
     "name": "stdout",
     "output_type": "stream",
     "text": [
      "101\n",
      "5\n"
     ]
    }
   ],
   "source": [
    "def binary(num):\n",
    "    bi_int=int(\"{0:b}\".format(int(num)))\n",
    "    print(bi_int)\n",
    "    dec_value = 0\n",
    "    base=1\n",
    "    temp=bi_int\n",
    "    while(temp):\n",
    "        last_dig=temp%10\n",
    "        temp=int(temp/10)\n",
    "        dec_value+=last_dig*base\n",
    "        base=base*2\n",
    "    return dec_value    \n",
    "print(binary(5))"
   ]
  },
  {
   "cell_type": "code",
   "execution_count": null,
   "metadata": {},
   "outputs": [],
   "source": []
  },
  {
   "cell_type": "code",
   "execution_count": null,
   "metadata": {},
   "outputs": [],
   "source": []
  }
 ],
 "metadata": {
  "kernelspec": {
   "display_name": "Python 3",
   "language": "python",
   "name": "python3"
  },
  "language_info": {
   "codemirror_mode": {
    "name": "ipython",
    "version": 3
   },
   "file_extension": ".py",
   "mimetype": "text/x-python",
   "name": "python",
   "nbconvert_exporter": "python",
   "pygments_lexer": "ipython3",
   "version": "3.8.3"
  }
 },
 "nbformat": 4,
 "nbformat_minor": 4
}
