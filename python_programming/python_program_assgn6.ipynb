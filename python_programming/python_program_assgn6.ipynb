{
 "cells": [
  {
   "cell_type": "code",
   "execution_count": 1,
   "metadata": {},
   "outputs": [
    {
     "name": "stdout",
     "output_type": "stream",
     "text": [
      "1\n",
      "2\n",
      "3\n",
      "4\n",
      "5\n"
     ]
    }
   ],
   "source": [
    "def printnum(n):\n",
    "    if n<1:\n",
    "        return 1\n",
    "    printnum(n-1)\n",
    "    print(n)\n",
    "printnum(5)    "
   ]
  },
  {
   "cell_type": "code",
   "execution_count": 2,
   "metadata": {},
   "outputs": [
    {
     "name": "stdout",
     "output_type": "stream",
     "text": [
      "8\n"
     ]
    }
   ],
   "source": [
    "def Fibonacci(n):\n",
    "    \n",
    "    if n==0:\n",
    "        return 0\n",
    "\n",
    "    elif n==1:\n",
    "        return 1\n",
    "    else:\n",
    "        return Fibonacci(n-1)+Fibonacci(n-2)\n",
    "print(Fibonacci(6))  "
   ]
  },
  {
   "cell_type": "code",
   "execution_count": 5,
   "metadata": {},
   "outputs": [
    {
     "data": {
      "text/plain": [
       "120"
      ]
     },
     "execution_count": 5,
     "metadata": {},
     "output_type": "execute_result"
    }
   ],
   "source": [
    "def factorial(n):\n",
    "    if (n>=1):\n",
    "        return n*factorial(n-1)\n",
    "    else:\n",
    "        return 1\n",
    "factorial(5)    "
   ]
  },
  {
   "cell_type": "code",
   "execution_count": 7,
   "metadata": {},
   "outputs": [
    {
     "name": "stdout",
     "output_type": "stream",
     "text": [
      "Enter height in feet5.6\n",
      "Enter wight in kg70\n"
     ]
    },
    {
     "data": {
      "text/plain": [
       "2.23"
      ]
     },
     "execution_count": 7,
     "metadata": {},
     "output_type": "execute_result"
    }
   ],
   "source": [
    "# Body Mass Index formula weight/(height)**2\n",
    "def Bmi(height,weight):\n",
    "    return round(weight/(height)**2,2)\n",
    "height=float(input(\"Enter height in feet\"))\n",
    "weight=float(input(\"Enter wight in kg\"))\n",
    "Bmi(height,weight)"
   ]
  },
  {
   "cell_type": "code",
   "execution_count": 10,
   "metadata": {},
   "outputs": [
    {
     "data": {
      "text/plain": [
       "36"
      ]
     },
     "execution_count": 10,
     "metadata": {},
     "output_type": "execute_result"
    }
   ],
   "source": [
    "def cube_sum(n):\n",
    "    if(n==1):\n",
    "        return 1\n",
    "    else:\n",
    "        return n**3+cube_sum(n-1)\n",
    "cube_sum(3)"
   ]
  },
  {
   "cell_type": "code",
   "execution_count": null,
   "metadata": {},
   "outputs": [],
   "source": []
  }
 ],
 "metadata": {
  "kernelspec": {
   "display_name": "Python 3",
   "language": "python",
   "name": "python3"
  },
  "language_info": {
   "codemirror_mode": {
    "name": "ipython",
    "version": 3
   },
   "file_extension": ".py",
   "mimetype": "text/x-python",
   "name": "python",
   "nbconvert_exporter": "python",
   "pygments_lexer": "ipython3",
   "version": "3.8.3"
  }
 },
 "nbformat": 4,
 "nbformat_minor": 4
}
