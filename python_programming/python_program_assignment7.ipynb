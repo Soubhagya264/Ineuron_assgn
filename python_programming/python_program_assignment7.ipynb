{
 "cells": [
  {
   "cell_type": "code",
   "execution_count": 1,
   "metadata": {},
   "outputs": [
    {
     "name": "stdout",
     "output_type": "stream",
     "text": [
      "Enter size of an array5\n",
      "1\n",
      "2\n",
      "3\n",
      "4\n",
      "5\n",
      "[1, 2, 3, 4, 5]\n",
      "summ of all the ele in array is\n",
      "15\n"
     ]
    }
   ],
   "source": [
    "#Q1\n",
    "arr=[]\n",
    "n=int(input(\"Enter size of an array\"))\n",
    "for i in range(0, n):\n",
    "    ele = int(input())\n",
    "    arr.append(ele)\n",
    "print(arr)    \n",
    "print(\"summ of all the ele in array is\")\n",
    "sum=0\n",
    "for i in range(n):\n",
    "    sum+=arr[i]\n",
    "print(sum)    \n",
    "\n",
    "    "
   ]
  },
  {
   "cell_type": "code",
   "execution_count": 8,
   "metadata": {},
   "outputs": [
    {
     "name": "stdout",
     "output_type": "stream",
     "text": [
      "12 32 44 31 45 11\n",
      "Max ele in the array 45\n"
     ]
    }
   ],
   "source": [
    "#Q2\n",
    "arr=[(int(x)) for x in input().split()]\n",
    "max_=arr[0]\n",
    "for i in range(1,len(arr)):\n",
    "    if arr[i]>max_:\n",
    "        max_=arr[i]\n",
    "print(\"Max ele in the array\",max_)        \n",
    "    "
   ]
  },
  {
   "cell_type": "code",
   "execution_count": 9,
   "metadata": {},
   "outputs": [
    {
     "name": "stdout",
     "output_type": "stream",
     "text": [
      "1 2 3 4 5\n",
      "Eneter the no to rotate the array in that many time2\n",
      "right rotate [4, 5, 1, 2, 3]\n"
     ]
    }
   ],
   "source": [
    "#Q3\n",
    "arr=[(int(x)) for x in input().split()]\n",
    "d=int(input(\"Eneter the no to rotate the array in that many time\"))\n",
    "while d>0:\n",
    "    last=arr[len(arr)-1]\n",
    "    for i in range(len(arr)-2,-1,-1):\n",
    "        arr[i+1]=arr[i]\n",
    "    arr[0]=last\n",
    "    d-=1\n",
    "print(\"right rotate\",arr) "
   ]
  },
  {
   "cell_type": "code",
   "execution_count": 8,
   "metadata": {},
   "outputs": [
    {
     "name": "stdout",
     "output_type": "stream",
     "text": [
      "1 2 3 4 5\n",
      "Eneter the no to rotate the array in that many time2\n",
      "left rotate [3, 4, 5, 1, 2]\n"
     ]
    }
   ],
   "source": [
    "arr=[(int(x)) for x in input().split()]\n",
    "d=int(input(\"Eneter the no to rotate the array in that many time\"))\n",
    "n=len(arr)\n",
    "while d>0:\n",
    "    fst=arr[0]\n",
    "    for i in range(0,n-1):\n",
    "        arr[i]=arr[i+1]\n",
    "    arr[n-1]=fst\n",
    "    d-=1\n",
    "print(\"left rotate\",arr)"
   ]
  },
  {
   "cell_type": "code",
   "execution_count": 14,
   "metadata": {},
   "outputs": [
    {
     "name": "stdout",
     "output_type": "stream",
     "text": [
      "False\n",
      "True\n"
     ]
    }
   ],
   "source": [
    "def monotonic(arr):\n",
    "    return (all(arr[i] <= arr[i + 1] for i in range(len(arr) - 1)) or\n",
    "            all(arr[i] >= arr[i + 1] for i in range(len(arr) - 1)))\n",
    "arr=[6, 5,3,3,2,7]\n",
    "print(monotonic(arr))\n",
    "arr2=[5,3,3,2,2,1]\n",
    "print(monotonic(arr2))"
   ]
  },
  {
   "cell_type": "code",
   "execution_count": null,
   "metadata": {},
   "outputs": [],
   "source": []
  }
 ],
 "metadata": {
  "kernelspec": {
   "display_name": "Python 3",
   "language": "python",
   "name": "python3"
  },
  "language_info": {
   "codemirror_mode": {
    "name": "ipython",
    "version": 3
   },
   "file_extension": ".py",
   "mimetype": "text/x-python",
   "name": "python",
   "nbconvert_exporter": "python",
   "pygments_lexer": "ipython3",
   "version": "3.8.3"
  }
 },
 "nbformat": 4,
 "nbformat_minor": 4
}
