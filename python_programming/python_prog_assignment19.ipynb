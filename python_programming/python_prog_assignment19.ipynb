{
 "cells": [
  {
   "cell_type": "code",
   "execution_count": 5,
   "metadata": {},
   "outputs": [
    {
     "name": "stdout",
     "output_type": "stream",
     "text": [
      "ssttrriinngg\n",
      "11223344!!__\n"
     ]
    }
   ],
   "source": [
    "def double_char(String):\n",
    "    s=\"\"\n",
    "    for i in String:\n",
    "        s+=i+i\n",
    "    return s\n",
    "print(double_char(\"string\"))\n",
    "print(double_char(\"1234!_\"))"
   ]
  },
  {
   "cell_type": "code",
   "execution_count": 7,
   "metadata": {},
   "outputs": [
    {
     "name": "stdout",
     "output_type": "stream",
     "text": [
      "False\n",
      "True\n",
      "boolean expected\n"
     ]
    }
   ],
   "source": [
    "def reverse(bool_val):\n",
    "    if type(bool_val)==bool:\n",
    "        if bool_val:\n",
    "            return False\n",
    "        else:\n",
    "            return True\n",
    "    else:\n",
    "        return \"boolean expected\"\n",
    "print(reverse(True))\n",
    "print(reverse(False))\n",
    "print(reverse(None))"
   ]
  },
  {
   "cell_type": "code",
   "execution_count": 9,
   "metadata": {},
   "outputs": [
    {
     "data": {
      "text/plain": [
       "[1, 3, 5]"
      ]
     },
     "execution_count": 9,
     "metadata": {},
     "output_type": "execute_result"
    }
   ],
   "source": [
    "def index_of_cap(String):\n",
    "    lis=[]\n",
    "    for i in range(len(String)):\n",
    "        if String[i].isupper():\n",
    "            lis.append(i)\n",
    "    return lis\n",
    "index_of_cap(\"eDaBiT\")"
   ]
  },
  {
   "cell_type": "code",
   "execution_count": 18,
   "metadata": {},
   "outputs": [
    {
     "name": "stdout",
     "output_type": "stream",
     "text": [
      "Enter a number 8\n"
     ]
    },
    {
     "data": {
      "text/plain": [
       "[2, 4, 6, 8]"
      ]
     },
     "execution_count": 18,
     "metadata": {},
     "output_type": "execute_result"
    }
   ],
   "source": [
    "n=int(input(\"Enter a number \"))\n",
    "lis=[i for i in range(1,n+1) if i%2==0]\n",
    "lis"
   ]
  },
  {
   "cell_type": "code",
   "execution_count": null,
   "metadata": {},
   "outputs": [],
   "source": []
  },
  {
   "cell_type": "code",
   "execution_count": null,
   "metadata": {},
   "outputs": [],
   "source": []
  }
 ],
 "metadata": {
  "kernelspec": {
   "display_name": "Python 3",
   "language": "python",
   "name": "python3"
  },
  "language_info": {
   "codemirror_mode": {
    "name": "ipython",
    "version": 3
   },
   "file_extension": ".py",
   "mimetype": "text/x-python",
   "name": "python",
   "nbconvert_exporter": "python",
   "pygments_lexer": "ipython3",
   "version": "3.8.3"
  }
 },
 "nbformat": 4,
 "nbformat_minor": 4
}
